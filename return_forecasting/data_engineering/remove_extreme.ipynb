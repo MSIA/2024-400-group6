{
 "cells": [
  {
   "cell_type": "code",
   "execution_count": 1,
   "metadata": {},
   "outputs": [
    {
     "data": {
      "text/plain": [
       "'c:\\\\Users\\\\mark7\\\\MLDS\\\\return_forecasting\\\\data_engineering'"
      ]
     },
     "execution_count": 1,
     "metadata": {},
     "output_type": "execute_result"
    }
   ],
   "source": [
    "import os\n",
    "os.getcwd()"
   ]
  },
  {
   "cell_type": "code",
   "execution_count": 2,
   "metadata": {},
   "outputs": [],
   "source": [
    "%run \"import_raw.ipynb\""
   ]
  },
  {
   "cell_type": "code",
   "execution_count": 3,
   "metadata": {},
   "outputs": [
    {
     "data": {
      "text/plain": [
       "(21864405, 16)"
      ]
     },
     "execution_count": 3,
     "metadata": {},
     "output_type": "execute_result"
    }
   ],
   "source": [
    "df_raw.shape"
   ]
  },
  {
   "cell_type": "code",
   "execution_count": 4,
   "metadata": {},
   "outputs": [],
   "source": [
    "df = df_raw.copy()\n",
    "del df_raw"
   ]
  },
  {
   "cell_type": "code",
   "execution_count": 5,
   "metadata": {},
   "outputs": [
    {
     "data": {
      "text/plain": [
       "(21864405, 16)"
      ]
     },
     "execution_count": 5,
     "metadata": {},
     "output_type": "execute_result"
    }
   ],
   "source": [
    "df.shape"
   ]
  },
  {
   "cell_type": "markdown",
   "metadata": {},
   "source": [
    "### Note:\n",
    "This is what *Mark* do on the raw dataset, his priciple is to remove null data and extreme records. Because it's nearly impossible for such a thing to happen."
   ]
  },
  {
   "cell_type": "markdown",
   "metadata": {},
   "source": [
    "### Basic Principle:\n",
    "It makes no sense that a product's selling price is way higher or way lower than the original price. And if that do happened in the real life, we don't want to learn from these extreme records because they misguide our model."
   ]
  },
  {
   "cell_type": "markdown",
   "metadata": {},
   "source": [
    "### An example:\n",
    "remove records that (AMT * 0.1) > ORGPRICE, sell too high to make it unbelievable, either outlier or typo."
   ]
  },
  {
   "cell_type": "markdown",
   "metadata": {},
   "source": [
    "### 1. orgprice vs amt"
   ]
  },
  {
   "cell_type": "code",
   "execution_count": 6,
   "metadata": {},
   "outputs": [],
   "source": [
    "df_sell_high = df[df['AMT'] > df['ORGPRICE']]"
   ]
  },
  {
   "cell_type": "code",
   "execution_count": 7,
   "metadata": {},
   "outputs": [
    {
     "name": "stdout",
     "output_type": "stream",
     "text": [
      "            AMT  ORGPRICE\n",
      "575816    22.00      1.99\n",
      "1536600   60.00      5.00\n",
      "3061404  189.99     12.00\n",
      "3061406  189.99     12.00\n",
      "9289303  120.00      7.00\n"
     ]
    },
    {
     "data": {
      "text/plain": [
       "31"
      ]
     },
     "execution_count": 7,
     "metadata": {},
     "output_type": "execute_result"
    }
   ],
   "source": [
    "df_todrop_1 = df_sell_high[df_sell_high['AMT'] * 0.1 > df_sell_high['ORGPRICE']]\n",
    "print(df_todrop_1[['AMT', 'ORGPRICE']].head())\n",
    "len(df_todrop_1)"
   ]
  },
  {
   "cell_type": "code",
   "execution_count": 8,
   "metadata": {},
   "outputs": [
    {
     "data": {
      "text/plain": [
       "9116"
      ]
     },
     "execution_count": 8,
     "metadata": {},
     "output_type": "execute_result"
    }
   ],
   "source": [
    "df_sell_high_droped = df_sell_high[df_sell_high['AMT'] * 0.1 <= df_sell_high['ORGPRICE']]\n",
    "len(df_sell_high_droped)\n",
    "# 9147 -> 9116"
   ]
  },
  {
   "cell_type": "code",
   "execution_count": 9,
   "metadata": {},
   "outputs": [
    {
     "data": {
      "text/html": [
       "<div>\n",
       "<style scoped>\n",
       "    .dataframe tbody tr th:only-of-type {\n",
       "        vertical-align: middle;\n",
       "    }\n",
       "\n",
       "    .dataframe tbody tr th {\n",
       "        vertical-align: top;\n",
       "    }\n",
       "\n",
       "    .dataframe thead th {\n",
       "        text-align: right;\n",
       "    }\n",
       "</style>\n",
       "<table border=\"1\" class=\"dataframe\">\n",
       "  <thead>\n",
       "    <tr style=\"text-align: right;\">\n",
       "      <th></th>\n",
       "      <th>SKU</th>\n",
       "      <th>SALEDATE</th>\n",
       "      <th>INTERID</th>\n",
       "      <th>STYPE</th>\n",
       "      <th>QUANTITY</th>\n",
       "      <th>ORGPRICE</th>\n",
       "      <th>AMT</th>\n",
       "      <th>CITY</th>\n",
       "      <th>STATE</th>\n",
       "      <th>COST</th>\n",
       "      <th>RETAIL</th>\n",
       "      <th>DEPT</th>\n",
       "      <th>COLOR</th>\n",
       "      <th>SIZE</th>\n",
       "      <th>BRAND</th>\n",
       "      <th>ZIP</th>\n",
       "    </tr>\n",
       "  </thead>\n",
       "  <tbody>\n",
       "    <tr>\n",
       "      <th>7</th>\n",
       "      <td>1000057</td>\n",
       "      <td>2005-08-21</td>\n",
       "      <td>391902128</td>\n",
       "      <td>P</td>\n",
       "      <td>1</td>\n",
       "      <td>100.0</td>\n",
       "      <td>50.00</td>\n",
       "      <td>MCALLEN</td>\n",
       "      <td>TX</td>\n",
       "      <td>41.65</td>\n",
       "      <td>50.00</td>\n",
       "      <td>3701.0</td>\n",
       "      <td>AMET</td>\n",
       "      <td>22</td>\n",
       "      <td>POSITIVE</td>\n",
       "      <td>78501</td>\n",
       "    </tr>\n",
       "    <tr>\n",
       "      <th>8</th>\n",
       "      <td>1000057</td>\n",
       "      <td>2005-08-22</td>\n",
       "      <td>929307832</td>\n",
       "      <td>R</td>\n",
       "      <td>1</td>\n",
       "      <td>100.0</td>\n",
       "      <td>67.00</td>\n",
       "      <td>SAN ANTONIO</td>\n",
       "      <td>TX</td>\n",
       "      <td>41.65</td>\n",
       "      <td>50.00</td>\n",
       "      <td>3701.0</td>\n",
       "      <td>AMET</td>\n",
       "      <td>22</td>\n",
       "      <td>POSITIVE</td>\n",
       "      <td>78216</td>\n",
       "    </tr>\n",
       "    <tr>\n",
       "      <th>9</th>\n",
       "      <td>1000057</td>\n",
       "      <td>2005-08-25</td>\n",
       "      <td>748505965</td>\n",
       "      <td>P</td>\n",
       "      <td>1</td>\n",
       "      <td>100.0</td>\n",
       "      <td>41.99</td>\n",
       "      <td>HAMMOND</td>\n",
       "      <td>LA</td>\n",
       "      <td>37.13</td>\n",
       "      <td>59.99</td>\n",
       "      <td>3701.0</td>\n",
       "      <td>AMET</td>\n",
       "      <td>22</td>\n",
       "      <td>POSITIVE</td>\n",
       "      <td>70403</td>\n",
       "    </tr>\n",
       "    <tr>\n",
       "      <th>19</th>\n",
       "      <td>1000129</td>\n",
       "      <td>2005-02-17</td>\n",
       "      <td>839102215</td>\n",
       "      <td>P</td>\n",
       "      <td>1</td>\n",
       "      <td>35.0</td>\n",
       "      <td>8.75</td>\n",
       "      <td>WICHITA</td>\n",
       "      <td>KS</td>\n",
       "      <td>16.00</td>\n",
       "      <td>8.75</td>\n",
       "      <td>8306.0</td>\n",
       "      <td>NAVY</td>\n",
       "      <td>120M</td>\n",
       "      <td>KENNETH</td>\n",
       "      <td>67207</td>\n",
       "    </tr>\n",
       "    <tr>\n",
       "      <th>20</th>\n",
       "      <td>1000129</td>\n",
       "      <td>2005-02-23</td>\n",
       "      <td>572006110</td>\n",
       "      <td>P</td>\n",
       "      <td>1</td>\n",
       "      <td>35.0</td>\n",
       "      <td>4.37</td>\n",
       "      <td>WICHITA</td>\n",
       "      <td>KS</td>\n",
       "      <td>16.00</td>\n",
       "      <td>8.75</td>\n",
       "      <td>8306.0</td>\n",
       "      <td>NAVY</td>\n",
       "      <td>120M</td>\n",
       "      <td>KENNETH</td>\n",
       "      <td>67209</td>\n",
       "    </tr>\n",
       "  </tbody>\n",
       "</table>\n",
       "</div>"
      ],
      "text/plain": [
       "        SKU    SALEDATE    INTERID STYPE  QUANTITY  ORGPRICE    AMT  \\\n",
       "7   1000057  2005-08-21  391902128     P         1     100.0  50.00   \n",
       "8   1000057  2005-08-22  929307832     R         1     100.0  67.00   \n",
       "9   1000057  2005-08-25  748505965     P         1     100.0  41.99   \n",
       "19  1000129  2005-02-17  839102215     P         1      35.0   8.75   \n",
       "20  1000129  2005-02-23  572006110     P         1      35.0   4.37   \n",
       "\n",
       "                    CITY STATE   COST  RETAIL    DEPT         COLOR  \\\n",
       "7   MCALLEN                 TX  41.65   50.00  3701.0  AMET           \n",
       "8   SAN ANTONIO             TX  41.65   50.00  3701.0  AMET           \n",
       "9   HAMMOND                 LA  37.13   59.99  3701.0  AMET           \n",
       "19  WICHITA                 KS  16.00    8.75  8306.0  NAVY           \n",
       "20  WICHITA                 KS  16.00    8.75  8306.0  NAVY           \n",
       "\n",
       "          SIZE      BRAND    ZIP  \n",
       "7   22          POSITIVE   78501  \n",
       "8   22          POSITIVE   78216  \n",
       "9   22          POSITIVE   70403  \n",
       "19  120M        KENNETH    67207  \n",
       "20  120M        KENNETH    67209  "
      ]
     },
     "execution_count": 9,
     "metadata": {},
     "output_type": "execute_result"
    }
   ],
   "source": [
    "# discount (sell low)\n",
    "df_sell_low = df[df['AMT'] < df['ORGPRICE']]\n",
    "df_sell_low.head()"
   ]
  },
  {
   "cell_type": "code",
   "execution_count": 10,
   "metadata": {},
   "outputs": [
    {
     "name": "stdout",
     "output_type": "stream",
     "text": [
      "      AMT  ORGPRICE\n",
      "478  3.49      38.0\n",
      "480  3.49      38.0\n",
      "503  3.49      38.0\n",
      "505  3.49      38.0\n",
      "509  3.49      38.0\n"
     ]
    },
    {
     "data": {
      "text/plain": [
       "46802"
      ]
     },
     "execution_count": 10,
     "metadata": {},
     "output_type": "execute_result"
    }
   ],
   "source": [
    "# sell too low\n",
    "df_todrop_2 = df_sell_low[df_sell_low['AMT'] < df_sell_low['ORGPRICE'] * 0.1]\n",
    "print(df_todrop_2[['AMT', 'ORGPRICE']].head())\n",
    "len(df_todrop_2)"
   ]
  },
  {
   "cell_type": "code",
   "execution_count": 11,
   "metadata": {},
   "outputs": [
    {
     "data": {
      "text/plain": [
       "9962663"
      ]
     },
     "execution_count": 11,
     "metadata": {},
     "output_type": "execute_result"
    }
   ],
   "source": [
    "# drop sell too low\n",
    "df_sell_low_droped = df_sell_low[df_sell_low['AMT'] >= df_sell_low['ORGPRICE'] * 0.1]\n",
    "len(df_sell_low_droped)\n",
    "# 10009465 -> 9962663  "
   ]
  },
  {
   "cell_type": "code",
   "execution_count": 12,
   "metadata": {},
   "outputs": [
    {
     "data": {
      "text/plain": [
       "11845793"
      ]
     },
     "execution_count": 12,
     "metadata": {},
     "output_type": "execute_result"
    }
   ],
   "source": [
    "# equal\n",
    "df_sell_fair = df[df['AMT'] == df['ORGPRICE']]\n",
    "len(df_sell_fair)"
   ]
  },
  {
   "cell_type": "code",
   "execution_count": 13,
   "metadata": {},
   "outputs": [
    {
     "data": {
      "text/plain": [
       "(11845793, 16)"
      ]
     },
     "execution_count": 13,
     "metadata": {},
     "output_type": "execute_result"
    }
   ],
   "source": [
    "df_sell_fair.shape"
   ]
  },
  {
   "cell_type": "code",
   "execution_count": 14,
   "metadata": {},
   "outputs": [
    {
     "data": {
      "text/plain": [
       "(9962663, 16)"
      ]
     },
     "execution_count": 14,
     "metadata": {},
     "output_type": "execute_result"
    }
   ],
   "source": [
    "df_sell_low_droped.shape"
   ]
  },
  {
   "cell_type": "code",
   "execution_count": 15,
   "metadata": {},
   "outputs": [
    {
     "data": {
      "text/plain": [
       "(9116, 16)"
      ]
     },
     "execution_count": 15,
     "metadata": {},
     "output_type": "execute_result"
    }
   ],
   "source": [
    "df_sell_high_droped.shape"
   ]
  },
  {
   "cell_type": "markdown",
   "metadata": {},
   "source": [
    "### 2. cost vs retail"
   ]
  },
  {
   "cell_type": "code",
   "execution_count": 16,
   "metadata": {},
   "outputs": [
    {
     "data": {
      "text/html": [
       "<div>\n",
       "<style scoped>\n",
       "    .dataframe tbody tr th:only-of-type {\n",
       "        vertical-align: middle;\n",
       "    }\n",
       "\n",
       "    .dataframe tbody tr th {\n",
       "        vertical-align: top;\n",
       "    }\n",
       "\n",
       "    .dataframe thead th {\n",
       "        text-align: right;\n",
       "    }\n",
       "</style>\n",
       "<table border=\"1\" class=\"dataframe\">\n",
       "  <thead>\n",
       "    <tr style=\"text-align: right;\">\n",
       "      <th></th>\n",
       "      <th>RETAIL</th>\n",
       "      <th>COST</th>\n",
       "    </tr>\n",
       "  </thead>\n",
       "  <tbody>\n",
       "    <tr>\n",
       "      <th>2819198</th>\n",
       "      <td>14.63</td>\n",
       "      <td>0.0</td>\n",
       "    </tr>\n",
       "    <tr>\n",
       "      <th>7826302</th>\n",
       "      <td>14.63</td>\n",
       "      <td>0.0</td>\n",
       "    </tr>\n",
       "    <tr>\n",
       "      <th>10204060</th>\n",
       "      <td>2.49</td>\n",
       "      <td>0.0</td>\n",
       "    </tr>\n",
       "  </tbody>\n",
       "</table>\n",
       "</div>"
      ],
      "text/plain": [
       "          RETAIL  COST\n",
       "2819198    14.63   0.0\n",
       "7826302    14.63   0.0\n",
       "10204060    2.49   0.0"
      ]
     },
     "execution_count": 16,
     "metadata": {},
     "output_type": "execute_result"
    }
   ],
   "source": [
    "df_todrop_1plus = df_sell_high_droped[df_sell_high_droped['RETAIL'] * 0.1 > df_sell_high_droped['COST']]\n",
    "df_todrop_1plus[['RETAIL','COST']].head()"
   ]
  },
  {
   "cell_type": "code",
   "execution_count": 17,
   "metadata": {},
   "outputs": [
    {
     "data": {
      "text/html": [
       "<div>\n",
       "<style scoped>\n",
       "    .dataframe tbody tr th:only-of-type {\n",
       "        vertical-align: middle;\n",
       "    }\n",
       "\n",
       "    .dataframe tbody tr th {\n",
       "        vertical-align: top;\n",
       "    }\n",
       "\n",
       "    .dataframe thead th {\n",
       "        text-align: right;\n",
       "    }\n",
       "</style>\n",
       "<table border=\"1\" class=\"dataframe\">\n",
       "  <thead>\n",
       "    <tr style=\"text-align: right;\">\n",
       "      <th></th>\n",
       "      <th>RETAIL</th>\n",
       "      <th>COST</th>\n",
       "    </tr>\n",
       "  </thead>\n",
       "  <tbody>\n",
       "    <tr>\n",
       "      <th>52578</th>\n",
       "      <td>2.99</td>\n",
       "      <td>36.12</td>\n",
       "    </tr>\n",
       "    <tr>\n",
       "      <th>58389</th>\n",
       "      <td>1.00</td>\n",
       "      <td>16.50</td>\n",
       "    </tr>\n",
       "    <tr>\n",
       "      <th>71077</th>\n",
       "      <td>5.99</td>\n",
       "      <td>72.50</td>\n",
       "    </tr>\n",
       "    <tr>\n",
       "      <th>86104</th>\n",
       "      <td>1.00</td>\n",
       "      <td>14.25</td>\n",
       "    </tr>\n",
       "    <tr>\n",
       "      <th>86111</th>\n",
       "      <td>1.00</td>\n",
       "      <td>14.25</td>\n",
       "    </tr>\n",
       "  </tbody>\n",
       "</table>\n",
       "</div>"
      ],
      "text/plain": [
       "       RETAIL   COST\n",
       "52578    2.99  36.12\n",
       "58389    1.00  16.50\n",
       "71077    5.99  72.50\n",
       "86104    1.00  14.25\n",
       "86111    1.00  14.25"
      ]
     },
     "execution_count": 17,
     "metadata": {},
     "output_type": "execute_result"
    }
   ],
   "source": [
    "df_todrop_2plus = df_sell_low_droped[df_sell_low_droped['RETAIL'] < df_sell_low_droped['COST'] * 0.1]\n",
    "df_todrop_2plus[['RETAIL','COST']].head()"
   ]
  },
  {
   "cell_type": "code",
   "execution_count": 18,
   "metadata": {},
   "outputs": [
    {
     "data": {
      "text/plain": [
       "(9113, 16)"
      ]
     },
     "execution_count": 18,
     "metadata": {},
     "output_type": "execute_result"
    }
   ],
   "source": [
    "df_sell_high_droped_2 = df_sell_high_droped[df_sell_high_droped['RETAIL'] * 0.1 <= df_sell_high_droped['COST']]\n",
    "df_sell_high_droped_2.shape\n",
    "# 9116 -> 9113"
   ]
  },
  {
   "cell_type": "code",
   "execution_count": 19,
   "metadata": {},
   "outputs": [
    {
     "data": {
      "text/plain": [
       "(9961113, 16)"
      ]
     },
     "execution_count": 19,
     "metadata": {},
     "output_type": "execute_result"
    }
   ],
   "source": [
    "df_sell_low_droped_2 = df_sell_low_droped[df_sell_low_droped['RETAIL'] >= df_sell_low_droped['COST'] * 0.1]\n",
    "df_sell_low_droped_2.shape\n",
    "# 9962663 -> 9962663"
   ]
  },
  {
   "cell_type": "code",
   "execution_count": 20,
   "metadata": {},
   "outputs": [
    {
     "data": {
      "text/plain": [
       "(21816019, 16)"
      ]
     },
     "execution_count": 20,
     "metadata": {},
     "output_type": "execute_result"
    }
   ],
   "source": [
    "## After Cleaning\n",
    "df_removed = pd.concat([df_sell_fair, df_sell_high_droped_2, df_sell_low_droped_2], ignore_index=True)\n",
    "df_removed.shape"
   ]
  }
 ],
 "metadata": {
  "kernelspec": {
   "display_name": "Python 3",
   "language": "python",
   "name": "python3"
  },
  "language_info": {
   "codemirror_mode": {
    "name": "ipython",
    "version": 3
   },
   "file_extension": ".py",
   "mimetype": "text/x-python",
   "name": "python",
   "nbconvert_exporter": "python",
   "pygments_lexer": "ipython3",
   "version": "3.11.5"
  }
 },
 "nbformat": 4,
 "nbformat_minor": 2
}
