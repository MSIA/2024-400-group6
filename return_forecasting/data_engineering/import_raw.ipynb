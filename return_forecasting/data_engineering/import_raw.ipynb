{
 "cells": [
  {
   "cell_type": "markdown",
   "metadata": {},
   "source": [
    "## Data Importing"
   ]
  },
  {
   "cell_type": "markdown",
   "metadata": {},
   "source": [
    "### Note:\n",
    "You don't need to run this file, other notebook under data_engineering folder will call this file and do further processes.  \n",
    "It's just a starting point."
   ]
  },
  {
   "cell_type": "markdown",
   "metadata": {},
   "source": [
    "### 1. Improt raw dataset"
   ]
  },
  {
   "cell_type": "code",
   "execution_count": 1,
   "metadata": {},
   "outputs": [],
   "source": [
    "import pandas as pd\n",
    "import matplotlib.pyplot as plt\n",
    "import numpy as np\n",
    "import holidays\n",
    "from datetime import datetime"
   ]
  },
  {
   "cell_type": "code",
   "execution_count": 2,
   "metadata": {},
   "outputs": [
    {
     "data": {
      "text/html": [
       "<div>\n",
       "<style scoped>\n",
       "    .dataframe tbody tr th:only-of-type {\n",
       "        vertical-align: middle;\n",
       "    }\n",
       "\n",
       "    .dataframe tbody tr th {\n",
       "        vertical-align: top;\n",
       "    }\n",
       "\n",
       "    .dataframe thead th {\n",
       "        text-align: right;\n",
       "    }\n",
       "</style>\n",
       "<table border=\"1\" class=\"dataframe\">\n",
       "  <thead>\n",
       "    <tr style=\"text-align: right;\">\n",
       "      <th></th>\n",
       "      <th>SKU</th>\n",
       "      <th>SALEDATE</th>\n",
       "      <th>INTERID</th>\n",
       "      <th>STYPE</th>\n",
       "      <th>QUANTITY</th>\n",
       "      <th>ORGPRICE</th>\n",
       "      <th>AMT</th>\n",
       "      <th>CITY</th>\n",
       "      <th>STATE</th>\n",
       "      <th>COST</th>\n",
       "      <th>RETAIL</th>\n",
       "      <th>DEPT</th>\n",
       "      <th>COLOR</th>\n",
       "      <th>SIZE</th>\n",
       "      <th>BRAND</th>\n",
       "      <th>ZIP</th>\n",
       "    </tr>\n",
       "  </thead>\n",
       "  <tbody>\n",
       "    <tr>\n",
       "      <th>0</th>\n",
       "      <td>1000007</td>\n",
       "      <td>2005-08-05</td>\n",
       "      <td>744804315</td>\n",
       "      <td>P</td>\n",
       "      <td>1</td>\n",
       "      <td>16.0</td>\n",
       "      <td>16.0</td>\n",
       "      <td>PHOENIX</td>\n",
       "      <td>AZ</td>\n",
       "      <td>7.0</td>\n",
       "      <td>16.0</td>\n",
       "      <td>6404.0</td>\n",
       "      <td>LT. BLUE</td>\n",
       "      <td>L</td>\n",
       "      <td>BILLABON</td>\n",
       "      <td>85032</td>\n",
       "    </tr>\n",
       "    <tr>\n",
       "      <th>1</th>\n",
       "      <td>1000007</td>\n",
       "      <td>2005-08-09</td>\n",
       "      <td>478109057</td>\n",
       "      <td>P</td>\n",
       "      <td>1</td>\n",
       "      <td>16.0</td>\n",
       "      <td>16.0</td>\n",
       "      <td>CHANDLER</td>\n",
       "      <td>AZ</td>\n",
       "      <td>7.0</td>\n",
       "      <td>16.0</td>\n",
       "      <td>6404.0</td>\n",
       "      <td>LT. BLUE</td>\n",
       "      <td>L</td>\n",
       "      <td>BILLABON</td>\n",
       "      <td>85226</td>\n",
       "    </tr>\n",
       "    <tr>\n",
       "      <th>2</th>\n",
       "      <td>1000007</td>\n",
       "      <td>2005-08-09</td>\n",
       "      <td>554308032</td>\n",
       "      <td>P</td>\n",
       "      <td>1</td>\n",
       "      <td>16.0</td>\n",
       "      <td>16.0</td>\n",
       "      <td>SANDY</td>\n",
       "      <td>UT</td>\n",
       "      <td>7.0</td>\n",
       "      <td>16.0</td>\n",
       "      <td>6404.0</td>\n",
       "      <td>LT. BLUE</td>\n",
       "      <td>L</td>\n",
       "      <td>BILLABON</td>\n",
       "      <td>84070</td>\n",
       "    </tr>\n",
       "    <tr>\n",
       "      <th>3</th>\n",
       "      <td>1000007</td>\n",
       "      <td>2005-08-11</td>\n",
       "      <td>141107309</td>\n",
       "      <td>P</td>\n",
       "      <td>1</td>\n",
       "      <td>16.0</td>\n",
       "      <td>16.0</td>\n",
       "      <td>PHOENIX</td>\n",
       "      <td>AZ</td>\n",
       "      <td>7.0</td>\n",
       "      <td>16.0</td>\n",
       "      <td>6404.0</td>\n",
       "      <td>LT. BLUE</td>\n",
       "      <td>L</td>\n",
       "      <td>BILLABON</td>\n",
       "      <td>85032</td>\n",
       "    </tr>\n",
       "    <tr>\n",
       "      <th>4</th>\n",
       "      <td>1000007</td>\n",
       "      <td>2005-08-19</td>\n",
       "      <td>56509933</td>\n",
       "      <td>P</td>\n",
       "      <td>1</td>\n",
       "      <td>16.0</td>\n",
       "      <td>16.0</td>\n",
       "      <td>EL CENTRO</td>\n",
       "      <td>CA</td>\n",
       "      <td>7.0</td>\n",
       "      <td>16.0</td>\n",
       "      <td>6404.0</td>\n",
       "      <td>LT. BLUE</td>\n",
       "      <td>L</td>\n",
       "      <td>BILLABON</td>\n",
       "      <td>92243</td>\n",
       "    </tr>\n",
       "  </tbody>\n",
       "</table>\n",
       "</div>"
      ],
      "text/plain": [
       "       SKU    SALEDATE    INTERID STYPE  QUANTITY  ORGPRICE   AMT  \\\n",
       "0  1000007  2005-08-05  744804315     P         1      16.0  16.0   \n",
       "1  1000007  2005-08-09  478109057     P         1      16.0  16.0   \n",
       "2  1000007  2005-08-09  554308032     P         1      16.0  16.0   \n",
       "3  1000007  2005-08-11  141107309     P         1      16.0  16.0   \n",
       "4  1000007  2005-08-19   56509933     P         1      16.0  16.0   \n",
       "\n",
       "                   CITY STATE  COST  RETAIL    DEPT         COLOR        SIZE  \\\n",
       "0  PHOENIX                 AZ   7.0    16.0  6404.0  LT. BLUE      L            \n",
       "1  CHANDLER                AZ   7.0    16.0  6404.0  LT. BLUE      L            \n",
       "2  SANDY                   UT   7.0    16.0  6404.0  LT. BLUE      L            \n",
       "3  PHOENIX                 AZ   7.0    16.0  6404.0  LT. BLUE      L            \n",
       "4  EL CENTRO               CA   7.0    16.0  6404.0  LT. BLUE      L            \n",
       "\n",
       "       BRAND    ZIP  \n",
       "0  BILLABON   85032  \n",
       "1  BILLABON   85226  \n",
       "2  BILLABON   84070  \n",
       "3  BILLABON   85032  \n",
       "4  BILLABON   92243  "
      ]
     },
     "execution_count": 2,
     "metadata": {},
     "output_type": "execute_result"
    }
   ],
   "source": [
    "df_raw = pd.read_csv(\"../data/test.csv\")\n",
    "df_raw.head()"
   ]
  },
  {
   "cell_type": "code",
   "execution_count": 3,
   "metadata": {},
   "outputs": [
    {
     "data": {
      "text/plain": [
       "Index(['SKU', 'SALEDATE', 'INTERID', 'STYPE', 'QUANTITY', 'ORGPRICE', 'AMT',\n",
       "       'CITY', 'STATE', 'COST', 'RETAIL', 'DEPT', 'COLOR', 'SIZE', 'BRAND',\n",
       "       'ZIP'],\n",
       "      dtype='object')"
      ]
     },
     "execution_count": 3,
     "metadata": {},
     "output_type": "execute_result"
    }
   ],
   "source": [
    "df_raw.columns"
   ]
  },
  {
   "cell_type": "code",
   "execution_count": 4,
   "metadata": {},
   "outputs": [],
   "source": [
    "# remove impossible\n",
    "df_raw = df_raw[df_raw[\"ORGPRICE\"] > 0]"
   ]
  },
  {
   "cell_type": "code",
   "execution_count": 5,
   "metadata": {},
   "outputs": [
    {
     "data": {
      "text/plain": [
       "STYPE\n",
       "P    20767217\n",
       "R     1097188\n",
       "Name: count, dtype: int64"
      ]
     },
     "execution_count": 5,
     "metadata": {},
     "output_type": "execute_result"
    }
   ],
   "source": [
    "# purchases vs returns\n",
    "df_raw[\"STYPE\"].value_counts()"
   ]
  }
 ],
 "metadata": {
  "kernelspec": {
   "display_name": "Python 3",
   "language": "python",
   "name": "python3"
  },
  "language_info": {
   "codemirror_mode": {
    "name": "ipython",
    "version": 3
   },
   "file_extension": ".py",
   "mimetype": "text/x-python",
   "name": "python",
   "nbconvert_exporter": "python",
   "pygments_lexer": "ipython3",
   "version": "3.11.5"
  }
 },
 "nbformat": 4,
 "nbformat_minor": 2
}
