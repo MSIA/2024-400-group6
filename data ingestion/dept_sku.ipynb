{
 "cells": [
  {
   "cell_type": "code",
   "execution_count": 1,
   "metadata": {},
   "outputs": [],
   "source": [
    "import pandas as pd\n",
    "import matplotlib.pyplot as plt"
   ]
  },
  {
   "cell_type": "code",
   "execution_count": 2,
   "metadata": {},
   "outputs": [
    {
     "data": {
      "text/html": [
       "<div>\n",
       "<style scoped>\n",
       "    .dataframe tbody tr th:only-of-type {\n",
       "        vertical-align: middle;\n",
       "    }\n",
       "\n",
       "    .dataframe tbody tr th {\n",
       "        vertical-align: top;\n",
       "    }\n",
       "\n",
       "    .dataframe thead th {\n",
       "        text-align: right;\n",
       "    }\n",
       "</style>\n",
       "<table border=\"1\" class=\"dataframe\">\n",
       "  <thead>\n",
       "    <tr style=\"text-align: right;\">\n",
       "      <th></th>\n",
       "      <th>DEPT</th>\n",
       "      <th>DEPTDESC</th>\n",
       "    </tr>\n",
       "  </thead>\n",
       "  <tbody>\n",
       "    <tr>\n",
       "      <th>0</th>\n",
       "      <td>800</td>\n",
       "      <td>CLINIQUE</td>\n",
       "    </tr>\n",
       "    <tr>\n",
       "      <th>1</th>\n",
       "      <td>801</td>\n",
       "      <td>LESLIE</td>\n",
       "    </tr>\n",
       "    <tr>\n",
       "      <th>2</th>\n",
       "      <td>1100</td>\n",
       "      <td>GARY F</td>\n",
       "    </tr>\n",
       "    <tr>\n",
       "      <th>3</th>\n",
       "      <td>1107</td>\n",
       "      <td>JACQUES</td>\n",
       "    </tr>\n",
       "    <tr>\n",
       "      <th>4</th>\n",
       "      <td>1202</td>\n",
       "      <td>CABERN</td>\n",
       "    </tr>\n",
       "  </tbody>\n",
       "</table>\n",
       "</div>"
      ],
      "text/plain": [
       "   DEPT  DEPTDESC\n",
       "0   800  CLINIQUE\n",
       "1   801  LESLIE  \n",
       "2  1100  GARY F  \n",
       "3  1107  JACQUES \n",
       "4  1202  CABERN  "
      ]
     },
     "execution_count": 2,
     "metadata": {},
     "output_type": "execute_result"
    }
   ],
   "source": [
    "deptinfo = pd.read_csv(\"deptinfo.csv\", header = None)\n",
    "deptinfo = deptinfo[[0, 1]]\n",
    "deptinfo = deptinfo.rename(columns = {0: \"DEPT\", 1: \"DEPTDESC\"})\n",
    "deptinfo.head()"
   ]
  },
  {
   "cell_type": "code",
   "execution_count": 3,
   "metadata": {},
   "outputs": [
    {
     "name": "stderr",
     "output_type": "stream",
     "text": [
      "/var/folders/s0/98nvy2x533n26bctzm80j1c00000gn/T/ipykernel_36260/824540460.py:1: DtypeWarning: Columns (7,8,11) have mixed types. Specify dtype option on import or set low_memory=False.\n",
      "  skuinfo = pd.read_csv(\"skuinfo.csv\", header = None,\n"
     ]
    },
    {
     "data": {
      "text/html": [
       "<div>\n",
       "<style scoped>\n",
       "    .dataframe tbody tr th:only-of-type {\n",
       "        vertical-align: middle;\n",
       "    }\n",
       "\n",
       "    .dataframe tbody tr th {\n",
       "        vertical-align: top;\n",
       "    }\n",
       "\n",
       "    .dataframe thead th {\n",
       "        text-align: right;\n",
       "    }\n",
       "</style>\n",
       "<table border=\"1\" class=\"dataframe\">\n",
       "  <thead>\n",
       "    <tr style=\"text-align: right;\">\n",
       "      <th></th>\n",
       "      <th>SKU</th>\n",
       "      <th>DEPT</th>\n",
       "      <th>CLASSID</th>\n",
       "      <th>UPC</th>\n",
       "      <th>STYLE</th>\n",
       "      <th>COLOR</th>\n",
       "      <th>SIZE</th>\n",
       "      <th>PACKSIZE</th>\n",
       "      <th>VENDOR</th>\n",
       "      <th>BRAND</th>\n",
       "      <th>1</th>\n",
       "      <th>2</th>\n",
       "      <th>3</th>\n",
       "    </tr>\n",
       "  </thead>\n",
       "  <tbody>\n",
       "    <tr>\n",
       "      <th>0</th>\n",
       "      <td>3</td>\n",
       "      <td>6505</td>\n",
       "      <td>113</td>\n",
       "      <td>400000003000</td>\n",
       "      <td>00    F55KT2</td>\n",
       "      <td>WHISPERWHITE</td>\n",
       "      <td>P8EA</td>\n",
       "      <td>1</td>\n",
       "      <td>5119207</td>\n",
       "      <td>TURNBURY</td>\n",
       "      <td>0</td>\n",
       "      <td>NaN</td>\n",
       "      <td>NaN</td>\n",
       "    </tr>\n",
       "    <tr>\n",
       "      <th>1</th>\n",
       "      <td>4</td>\n",
       "      <td>8101</td>\n",
       "      <td>002</td>\n",
       "      <td>400000004000</td>\n",
       "      <td>22    615CZ4</td>\n",
       "      <td>SPEARMI</td>\n",
       "      <td>S</td>\n",
       "      <td>1</td>\n",
       "      <td>3311144</td>\n",
       "      <td>C A SPOR</td>\n",
       "      <td>0</td>\n",
       "      <td>NaN</td>\n",
       "      <td>NaN</td>\n",
       "    </tr>\n",
       "    <tr>\n",
       "      <th>2</th>\n",
       "      <td>5</td>\n",
       "      <td>7307</td>\n",
       "      <td>003</td>\n",
       "      <td>400000005000</td>\n",
       "      <td>7LBS  245-01</td>\n",
       "      <td>34 SILVER</td>\n",
       "      <td>KING</td>\n",
       "      <td>1</td>\n",
       "      <td>5510554</td>\n",
       "      <td>BEAU IDE</td>\n",
       "      <td>0</td>\n",
       "      <td>NaN</td>\n",
       "      <td>NaN</td>\n",
       "    </tr>\n",
       "    <tr>\n",
       "      <th>3</th>\n",
       "      <td>8</td>\n",
       "      <td>3404</td>\n",
       "      <td>00B</td>\n",
       "      <td>400000008000</td>\n",
       "      <td>622   F05H84</td>\n",
       "      <td>MORNING MI</td>\n",
       "      <td>2T</td>\n",
       "      <td>1</td>\n",
       "      <td>2912827</td>\n",
       "      <td>HARTSTRI</td>\n",
       "      <td>0</td>\n",
       "      <td>NaN</td>\n",
       "      <td>NaN</td>\n",
       "    </tr>\n",
       "    <tr>\n",
       "      <th>4</th>\n",
       "      <td>15</td>\n",
       "      <td>2301</td>\n",
       "      <td>004</td>\n",
       "      <td>400000015000</td>\n",
       "      <td>126   MDU461</td>\n",
       "      <td>255CAMEL</td>\n",
       "      <td>12</td>\n",
       "      <td>1</td>\n",
       "      <td>23272</td>\n",
       "      <td>JONES/LA</td>\n",
       "      <td>0</td>\n",
       "      <td>NaN</td>\n",
       "      <td>NaN</td>\n",
       "    </tr>\n",
       "  </tbody>\n",
       "</table>\n",
       "</div>"
      ],
      "text/plain": [
       "   SKU  DEPT CLASSID           UPC         STYLE         COLOR        SIZE  \\\n",
       "0    3  6505     113  400000003000  00    F55KT2  WHISPERWHITE  P8EA         \n",
       "1    4  8101     002  400000004000  22    615CZ4  SPEARMI       S            \n",
       "2    5  7307     003  400000005000  7LBS  245-01  34 SILVER     KING         \n",
       "3    8  3404     00B  400000008000  622   F05H84  MORNING MI    2T           \n",
       "4   15  2301     004  400000015000  126   MDU461  255CAMEL      12           \n",
       "\n",
       "  PACKSIZE   VENDOR      BRAND  1    2   3  \n",
       "0        1  5119207  TURNBURY   0  NaN NaN  \n",
       "1        1  3311144  C A SPOR   0  NaN NaN  \n",
       "2        1  5510554  BEAU IDE   0  NaN NaN  \n",
       "3        1  2912827  HARTSTRI   0  NaN NaN  \n",
       "4        1    23272  JONES/LA   0  NaN NaN  "
      ]
     },
     "execution_count": 3,
     "metadata": {},
     "output_type": "execute_result"
    }
   ],
   "source": [
    "skuinfo = pd.read_csv(\"skuinfo.csv\", header = None, \n",
    "                      names = [\"SKU\", \"DEPT\", \"CLASSID\", \"UPC\", \"STYLE\", \"COLOR\", \"SIZE\", \"PACKSIZE\", \"VENDOR\", \"BRAND\", 1, 2, 3])\n",
    "skuinfo.head()"
   ]
  },
  {
   "cell_type": "code",
   "execution_count": 4,
   "metadata": {},
   "outputs": [
    {
     "name": "stderr",
     "output_type": "stream",
     "text": [
      "/var/folders/s0/98nvy2x533n26bctzm80j1c00000gn/T/ipykernel_36260/1413031463.py:1: ParserWarning: Falling back to the 'python' engine because the 'c' engine does not support regex separators (separators > 1 char and different from '\\s+' are interpreted as regex); you can avoid this warning by specifying engine='python'.\n",
      "  df = pd.read_csv(\"skuinfo.csv\", sep = \"delimiter\", header = None)\n"
     ]
    },
    {
     "data": {
      "text/html": [
       "<div>\n",
       "<style scoped>\n",
       "    .dataframe tbody tr th:only-of-type {\n",
       "        vertical-align: middle;\n",
       "    }\n",
       "\n",
       "    .dataframe tbody tr th {\n",
       "        vertical-align: top;\n",
       "    }\n",
       "\n",
       "    .dataframe thead th {\n",
       "        text-align: right;\n",
       "    }\n",
       "</style>\n",
       "<table border=\"1\" class=\"dataframe\">\n",
       "  <thead>\n",
       "    <tr style=\"text-align: right;\">\n",
       "      <th></th>\n",
       "      <th>0</th>\n",
       "    </tr>\n",
       "  </thead>\n",
       "  <tbody>\n",
       "    <tr>\n",
       "      <th>0</th>\n",
       "      <td>3,6505,113,000400000003000,00    F55KT2,WHISPE...</td>\n",
       "    </tr>\n",
       "    <tr>\n",
       "      <th>1</th>\n",
       "      <td>4,8101,002,000400000004000,22    615CZ4,SPEARM...</td>\n",
       "    </tr>\n",
       "    <tr>\n",
       "      <th>2</th>\n",
       "      <td>5,7307,003,000400000005000,7LBS  245-01,34 SIL...</td>\n",
       "    </tr>\n",
       "    <tr>\n",
       "      <th>3</th>\n",
       "      <td>8,3404,00B,000400000008000,622   F05H84,MORNIN...</td>\n",
       "    </tr>\n",
       "    <tr>\n",
       "      <th>4</th>\n",
       "      <td>15,2301,004,000400000015000,126   MDU461,255CA...</td>\n",
       "    </tr>\n",
       "    <tr>\n",
       "      <th>...</th>\n",
       "      <td>...</td>\n",
       "    </tr>\n",
       "    <tr>\n",
       "      <th>1564173</th>\n",
       "      <td>9999973,3103,009,000400009973999,702   S3JAYV,...</td>\n",
       "    </tr>\n",
       "    <tr>\n",
       "      <th>1564174</th>\n",
       "      <td>9999974,9801,726,000400009974999,      G50171,...</td>\n",
       "    </tr>\n",
       "    <tr>\n",
       "      <th>1564175</th>\n",
       "      <td>9999991,2301,004,000400009991999,026   MDU201,...</td>\n",
       "    </tr>\n",
       "    <tr>\n",
       "      <th>1564176</th>\n",
       "      <td>9999992,1202,402,000400009992999,14    F52UN1,...</td>\n",
       "    </tr>\n",
       "    <tr>\n",
       "      <th>1564177</th>\n",
       "      <td>9999997,2503,111,000400009997999,1     1XKBGO,...</td>\n",
       "    </tr>\n",
       "  </tbody>\n",
       "</table>\n",
       "<p>1564178 rows × 1 columns</p>\n",
       "</div>"
      ],
      "text/plain": [
       "                                                         0\n",
       "0        3,6505,113,000400000003000,00    F55KT2,WHISPE...\n",
       "1        4,8101,002,000400000004000,22    615CZ4,SPEARM...\n",
       "2        5,7307,003,000400000005000,7LBS  245-01,34 SIL...\n",
       "3        8,3404,00B,000400000008000,622   F05H84,MORNIN...\n",
       "4        15,2301,004,000400000015000,126   MDU461,255CA...\n",
       "...                                                    ...\n",
       "1564173  9999973,3103,009,000400009973999,702   S3JAYV,...\n",
       "1564174  9999974,9801,726,000400009974999,      G50171,...\n",
       "1564175  9999991,2301,004,000400009991999,026   MDU201,...\n",
       "1564176  9999992,1202,402,000400009992999,14    F52UN1,...\n",
       "1564177  9999997,2503,111,000400009997999,1     1XKBGO,...\n",
       "\n",
       "[1564178 rows x 1 columns]"
      ]
     },
     "execution_count": 4,
     "metadata": {},
     "output_type": "execute_result"
    }
   ],
   "source": [
    "df = pd.read_csv(\"skuinfo.csv\", sep = \"delimiter\", header = None)\n",
    "df "
   ]
  },
  {
   "cell_type": "code",
   "execution_count": 5,
   "metadata": {},
   "outputs": [
    {
     "data": {
      "text/plain": [
       "8148"
      ]
     },
     "execution_count": 5,
     "metadata": {},
     "output_type": "execute_result"
    }
   ],
   "source": [
    "drops = []\n",
    "\n",
    "for i, v in enumerate(df[0]):\n",
    "    if df.iloc[i, 0].count(',') > 10:\n",
    "        drops.append(i)\n",
    "        \n",
    "len(drops)"
   ]
  },
  {
   "cell_type": "markdown",
   "metadata": {},
   "source": [
    "Since the number of rows with extra column is relatively small compared with total number of rows, it is reasonable to drop these."
   ]
  },
  {
   "cell_type": "code",
   "execution_count": 6,
   "metadata": {},
   "outputs": [
    {
     "data": {
      "text/html": [
       "<div>\n",
       "<style scoped>\n",
       "    .dataframe tbody tr th:only-of-type {\n",
       "        vertical-align: middle;\n",
       "    }\n",
       "\n",
       "    .dataframe tbody tr th {\n",
       "        vertical-align: top;\n",
       "    }\n",
       "\n",
       "    .dataframe thead th {\n",
       "        text-align: right;\n",
       "    }\n",
       "</style>\n",
       "<table border=\"1\" class=\"dataframe\">\n",
       "  <thead>\n",
       "    <tr style=\"text-align: right;\">\n",
       "      <th></th>\n",
       "      <th>SKU</th>\n",
       "      <th>DEPT</th>\n",
       "      <th>CLASSID</th>\n",
       "      <th>UPC</th>\n",
       "      <th>STYLE</th>\n",
       "      <th>COLOR</th>\n",
       "      <th>SIZE</th>\n",
       "      <th>PACKSIZE</th>\n",
       "      <th>VENDOR</th>\n",
       "      <th>BRAND</th>\n",
       "    </tr>\n",
       "  </thead>\n",
       "  <tbody>\n",
       "    <tr>\n",
       "      <th>0</th>\n",
       "      <td>3</td>\n",
       "      <td>6505</td>\n",
       "      <td>113</td>\n",
       "      <td>400000003000</td>\n",
       "      <td>00    F55KT2</td>\n",
       "      <td>WHISPERWHITE</td>\n",
       "      <td>P8EA</td>\n",
       "      <td>1</td>\n",
       "      <td>5119207</td>\n",
       "      <td>TURNBURY</td>\n",
       "    </tr>\n",
       "    <tr>\n",
       "      <th>1</th>\n",
       "      <td>4</td>\n",
       "      <td>8101</td>\n",
       "      <td>002</td>\n",
       "      <td>400000004000</td>\n",
       "      <td>22    615CZ4</td>\n",
       "      <td>SPEARMI</td>\n",
       "      <td>S</td>\n",
       "      <td>1</td>\n",
       "      <td>3311144</td>\n",
       "      <td>C A SPOR</td>\n",
       "    </tr>\n",
       "    <tr>\n",
       "      <th>2</th>\n",
       "      <td>5</td>\n",
       "      <td>7307</td>\n",
       "      <td>003</td>\n",
       "      <td>400000005000</td>\n",
       "      <td>7LBS  245-01</td>\n",
       "      <td>34 SILVER</td>\n",
       "      <td>KING</td>\n",
       "      <td>1</td>\n",
       "      <td>5510554</td>\n",
       "      <td>BEAU IDE</td>\n",
       "    </tr>\n",
       "    <tr>\n",
       "      <th>3</th>\n",
       "      <td>8</td>\n",
       "      <td>3404</td>\n",
       "      <td>00B</td>\n",
       "      <td>400000008000</td>\n",
       "      <td>622   F05H84</td>\n",
       "      <td>MORNING MI</td>\n",
       "      <td>2T</td>\n",
       "      <td>1</td>\n",
       "      <td>2912827</td>\n",
       "      <td>HARTSTRI</td>\n",
       "    </tr>\n",
       "    <tr>\n",
       "      <th>4</th>\n",
       "      <td>15</td>\n",
       "      <td>2301</td>\n",
       "      <td>004</td>\n",
       "      <td>400000015000</td>\n",
       "      <td>126   MDU461</td>\n",
       "      <td>255CAMEL</td>\n",
       "      <td>12</td>\n",
       "      <td>1</td>\n",
       "      <td>23272</td>\n",
       "      <td>JONES/LA</td>\n",
       "    </tr>\n",
       "    <tr>\n",
       "      <th>...</th>\n",
       "      <td>...</td>\n",
       "      <td>...</td>\n",
       "      <td>...</td>\n",
       "      <td>...</td>\n",
       "      <td>...</td>\n",
       "      <td>...</td>\n",
       "      <td>...</td>\n",
       "      <td>...</td>\n",
       "      <td>...</td>\n",
       "      <td>...</td>\n",
       "    </tr>\n",
       "    <tr>\n",
       "      <th>1564173</th>\n",
       "      <td>9999973</td>\n",
       "      <td>3103</td>\n",
       "      <td>009</td>\n",
       "      <td>400009973999</td>\n",
       "      <td>702   S3JAYV</td>\n",
       "      <td>STONE</td>\n",
       "      <td>4</td>\n",
       "      <td>1</td>\n",
       "      <td>6813115</td>\n",
       "      <td>POLO JEA</td>\n",
       "    </tr>\n",
       "    <tr>\n",
       "      <th>1564174</th>\n",
       "      <td>9999974</td>\n",
       "      <td>9801</td>\n",
       "      <td>726</td>\n",
       "      <td>400009974999</td>\n",
       "      <td>G50171</td>\n",
       "      <td>NAVY MULTI</td>\n",
       "      <td>10</td>\n",
       "      <td>1</td>\n",
       "      <td>9212766</td>\n",
       "      <td>GABAR IN</td>\n",
       "    </tr>\n",
       "    <tr>\n",
       "      <th>1564175</th>\n",
       "      <td>9999991</td>\n",
       "      <td>2301</td>\n",
       "      <td>004</td>\n",
       "      <td>400009991999</td>\n",
       "      <td>026   MDU201</td>\n",
       "      <td>618RED ROSE</td>\n",
       "      <td>8</td>\n",
       "      <td>1</td>\n",
       "      <td>0023272</td>\n",
       "      <td>JONES/LA</td>\n",
       "    </tr>\n",
       "    <tr>\n",
       "      <th>1564176</th>\n",
       "      <td>9999992</td>\n",
       "      <td>1202</td>\n",
       "      <td>402</td>\n",
       "      <td>400009992999</td>\n",
       "      <td>14    F52UN1</td>\n",
       "      <td>PALE JADE</td>\n",
       "      <td>L</td>\n",
       "      <td>1</td>\n",
       "      <td>1446212</td>\n",
       "      <td>CABERNET</td>\n",
       "    </tr>\n",
       "    <tr>\n",
       "      <th>1564177</th>\n",
       "      <td>9999997</td>\n",
       "      <td>2503</td>\n",
       "      <td>111</td>\n",
       "      <td>400009997999</td>\n",
       "      <td>1     1XKBGO</td>\n",
       "      <td>210CHOPNK</td>\n",
       "      <td>7</td>\n",
       "      <td>1</td>\n",
       "      <td>8515392</td>\n",
       "      <td>RAMPAGE</td>\n",
       "    </tr>\n",
       "  </tbody>\n",
       "</table>\n",
       "<p>1556030 rows × 10 columns</p>\n",
       "</div>"
      ],
      "text/plain": [
       "             SKU  DEPT CLASSID           UPC         STYLE         COLOR  \\\n",
       "0              3  6505     113  400000003000  00    F55KT2  WHISPERWHITE   \n",
       "1              4  8101     002  400000004000  22    615CZ4  SPEARMI        \n",
       "2              5  7307     003  400000005000  7LBS  245-01  34 SILVER      \n",
       "3              8  3404     00B  400000008000  622   F05H84  MORNING MI     \n",
       "4             15  2301     004  400000015000  126   MDU461  255CAMEL       \n",
       "...          ...   ...     ...           ...           ...           ...   \n",
       "1564173  9999973  3103     009  400009973999  702   S3JAYV  STONE          \n",
       "1564174  9999974  9801     726  400009974999        G50171  NAVY MULTI     \n",
       "1564175  9999991  2301     004  400009991999  026   MDU201  618RED ROSE    \n",
       "1564176  9999992  1202     402  400009992999  14    F52UN1  PALE JADE      \n",
       "1564177  9999997  2503     111  400009997999  1     1XKBGO  210CHOPNK      \n",
       "\n",
       "               SIZE PACKSIZE   VENDOR      BRAND  \n",
       "0        P8EA              1  5119207  TURNBURY   \n",
       "1        S                 1  3311144  C A SPOR   \n",
       "2        KING              1  5510554  BEAU IDE   \n",
       "3        2T                1  2912827  HARTSTRI   \n",
       "4        12                1    23272  JONES/LA   \n",
       "...             ...      ...      ...        ...  \n",
       "1564173  4                 1  6813115  POLO JEA   \n",
       "1564174  10                1  9212766  GABAR IN   \n",
       "1564175  8                 1  0023272  JONES/LA   \n",
       "1564176  L                 1  1446212  CABERNET   \n",
       "1564177  7                 1  8515392  RAMPAGE    \n",
       "\n",
       "[1556030 rows x 10 columns]"
      ]
     },
     "execution_count": 6,
     "metadata": {},
     "output_type": "execute_result"
    }
   ],
   "source": [
    "skuinfo = skuinfo.drop(drops)\n",
    "columns_to_select = skuinfo.columns[:-3]\n",
    "skuinfo = skuinfo[columns_to_select]\n",
    "skuinfo"
   ]
  },
  {
   "cell_type": "code",
   "execution_count": 7,
   "metadata": {},
   "outputs": [
    {
     "data": {
      "text/html": [
       "<div>\n",
       "<style scoped>\n",
       "    .dataframe tbody tr th:only-of-type {\n",
       "        vertical-align: middle;\n",
       "    }\n",
       "\n",
       "    .dataframe tbody tr th {\n",
       "        vertical-align: top;\n",
       "    }\n",
       "\n",
       "    .dataframe thead th {\n",
       "        text-align: right;\n",
       "    }\n",
       "</style>\n",
       "<table border=\"1\" class=\"dataframe\">\n",
       "  <thead>\n",
       "    <tr style=\"text-align: right;\">\n",
       "      <th></th>\n",
       "      <th>SKU</th>\n",
       "      <th>DEPT</th>\n",
       "      <th>CLASSID</th>\n",
       "      <th>UPC</th>\n",
       "      <th>STYLE</th>\n",
       "      <th>COLOR</th>\n",
       "      <th>SIZE</th>\n",
       "      <th>PACKSIZE</th>\n",
       "      <th>VENDOR</th>\n",
       "      <th>BRAND</th>\n",
       "      <th>DEPTDESC</th>\n",
       "    </tr>\n",
       "  </thead>\n",
       "  <tbody>\n",
       "    <tr>\n",
       "      <th>0</th>\n",
       "      <td>3</td>\n",
       "      <td>6505</td>\n",
       "      <td>113</td>\n",
       "      <td>400000003000</td>\n",
       "      <td>00    F55KT2</td>\n",
       "      <td>WHISPERWHITE</td>\n",
       "      <td>P8EA</td>\n",
       "      <td>1</td>\n",
       "      <td>5119207</td>\n",
       "      <td>TURNBURY</td>\n",
       "      <td>ST JOHN</td>\n",
       "    </tr>\n",
       "    <tr>\n",
       "      <th>1</th>\n",
       "      <td>466</td>\n",
       "      <td>6505</td>\n",
       "      <td>511</td>\n",
       "      <td>400000466000</td>\n",
       "      <td>10    F55KR5</td>\n",
       "      <td>TRUEBURGUNDY</td>\n",
       "      <td>XL</td>\n",
       "      <td>1</td>\n",
       "      <td>4259203</td>\n",
       "      <td>ROUNDTRE</td>\n",
       "      <td>ST JOHN</td>\n",
       "    </tr>\n",
       "    <tr>\n",
       "      <th>2</th>\n",
       "      <td>1211</td>\n",
       "      <td>6505</td>\n",
       "      <td>113</td>\n",
       "      <td>400001211000</td>\n",
       "      <td>92    F55KR9</td>\n",
       "      <td>OATMEALHTHER</td>\n",
       "      <td>XL</td>\n",
       "      <td>1</td>\n",
       "      <td>4259203</td>\n",
       "      <td>ROUNDTRE</td>\n",
       "      <td>ST JOHN</td>\n",
       "    </tr>\n",
       "    <tr>\n",
       "      <th>3</th>\n",
       "      <td>1302</td>\n",
       "      <td>6505</td>\n",
       "      <td>203</td>\n",
       "      <td>400001302000</td>\n",
       "      <td>6     115K83</td>\n",
       "      <td>STRETCH LIMO</td>\n",
       "      <td>S</td>\n",
       "      <td>1</td>\n",
       "      <td>5119207</td>\n",
       "      <td>ROUNDTRE</td>\n",
       "      <td>ST JOHN</td>\n",
       "    </tr>\n",
       "    <tr>\n",
       "      <th>4</th>\n",
       "      <td>1568</td>\n",
       "      <td>6505</td>\n",
       "      <td>127</td>\n",
       "      <td>400001568000</td>\n",
       "      <td>00    S65KR4</td>\n",
       "      <td>COPPER TAN</td>\n",
       "      <td>XL</td>\n",
       "      <td>1</td>\n",
       "      <td>7679205</td>\n",
       "      <td>ROUNDTRE</td>\n",
       "      <td>ST JOHN</td>\n",
       "    </tr>\n",
       "    <tr>\n",
       "      <th>...</th>\n",
       "      <td>...</td>\n",
       "      <td>...</td>\n",
       "      <td>...</td>\n",
       "      <td>...</td>\n",
       "      <td>...</td>\n",
       "      <td>...</td>\n",
       "      <td>...</td>\n",
       "      <td>...</td>\n",
       "      <td>...</td>\n",
       "      <td>...</td>\n",
       "      <td>...</td>\n",
       "    </tr>\n",
       "    <tr>\n",
       "      <th>1556025</th>\n",
       "      <td>9637469</td>\n",
       "      <td>4400</td>\n",
       "      <td>007</td>\n",
       "      <td>400007469963</td>\n",
       "      <td>40    BA3003</td>\n",
       "      <td>HOLIDAY SE</td>\n",
       "      <td>U</td>\n",
       "      <td>3</td>\n",
       "      <td>6011254</td>\n",
       "      <td>LIZ CLAI</td>\n",
       "      <td>BORA</td>\n",
       "    </tr>\n",
       "    <tr>\n",
       "      <th>1556026</th>\n",
       "      <td>9723206</td>\n",
       "      <td>4400</td>\n",
       "      <td>006</td>\n",
       "      <td>400003206972</td>\n",
       "      <td>791868</td>\n",
       "      <td>JAN S04GWP</td>\n",
       "      <td>S04 GWP</td>\n",
       "      <td>6</td>\n",
       "      <td>6011254</td>\n",
       "      <td>LIZ CLAI</td>\n",
       "      <td>BORA</td>\n",
       "    </tr>\n",
       "    <tr>\n",
       "      <th>1556027</th>\n",
       "      <td>9843436</td>\n",
       "      <td>4400</td>\n",
       "      <td>007</td>\n",
       "      <td>400003436984</td>\n",
       "      <td>520184</td>\n",
       "      <td>SUMMER SET</td>\n",
       "      <td>CURVE</td>\n",
       "      <td>1</td>\n",
       "      <td>6011254</td>\n",
       "      <td>LIZ CLAI</td>\n",
       "      <td>BORA</td>\n",
       "    </tr>\n",
       "    <tr>\n",
       "      <th>1556028</th>\n",
       "      <td>9857469</td>\n",
       "      <td>4400</td>\n",
       "      <td>007</td>\n",
       "      <td>400007469985</td>\n",
       "      <td>844232</td>\n",
       "      <td>HOLIDAY SE</td>\n",
       "      <td>U</td>\n",
       "      <td>3</td>\n",
       "      <td>6011254</td>\n",
       "      <td>LIZ CLAI</td>\n",
       "      <td>BORA</td>\n",
       "    </tr>\n",
       "    <tr>\n",
       "      <th>1556029</th>\n",
       "      <td>9926969</td>\n",
       "      <td>4400</td>\n",
       "      <td>007</td>\n",
       "      <td>400006969992</td>\n",
       "      <td>844171</td>\n",
       "      <td>NO COLOR</td>\n",
       "      <td>NOS</td>\n",
       "      <td>3</td>\n",
       "      <td>6011254</td>\n",
       "      <td>LIZ CLAI</td>\n",
       "      <td>BORA</td>\n",
       "    </tr>\n",
       "  </tbody>\n",
       "</table>\n",
       "<p>1556030 rows × 11 columns</p>\n",
       "</div>"
      ],
      "text/plain": [
       "             SKU  DEPT CLASSID           UPC         STYLE         COLOR  \\\n",
       "0              3  6505     113  400000003000  00    F55KT2  WHISPERWHITE   \n",
       "1            466  6505     511  400000466000  10    F55KR5  TRUEBURGUNDY   \n",
       "2           1211  6505     113  400001211000  92    F55KR9  OATMEALHTHER   \n",
       "3           1302  6505     203  400001302000  6     115K83  STRETCH LIMO   \n",
       "4           1568  6505     127  400001568000  00    S65KR4  COPPER TAN     \n",
       "...          ...   ...     ...           ...           ...           ...   \n",
       "1556025  9637469  4400     007  400007469963  40    BA3003  HOLIDAY SE     \n",
       "1556026  9723206  4400     006  400003206972        791868  JAN S04GWP     \n",
       "1556027  9843436  4400     007  400003436984        520184  SUMMER SET     \n",
       "1556028  9857469  4400     007  400007469985        844232  HOLIDAY SE     \n",
       "1556029  9926969  4400     007  400006969992        844171  NO COLOR       \n",
       "\n",
       "               SIZE PACKSIZE   VENDOR      BRAND  DEPTDESC  \n",
       "0        P8EA              1  5119207  TURNBURY   ST JOHN   \n",
       "1        XL                1  4259203  ROUNDTRE   ST JOHN   \n",
       "2        XL                1  4259203  ROUNDTRE   ST JOHN   \n",
       "3        S                 1  5119207  ROUNDTRE   ST JOHN   \n",
       "4        XL                1  7679205  ROUNDTRE   ST JOHN   \n",
       "...             ...      ...      ...        ...       ...  \n",
       "1556025  U                 3  6011254  LIZ CLAI   BORA      \n",
       "1556026  S04 GWP           6  6011254  LIZ CLAI   BORA      \n",
       "1556027  CURVE             1  6011254  LIZ CLAI   BORA      \n",
       "1556028  U                 3  6011254  LIZ CLAI   BORA      \n",
       "1556029  NOS               3  6011254  LIZ CLAI   BORA      \n",
       "\n",
       "[1556030 rows x 11 columns]"
      ]
     },
     "execution_count": 7,
     "metadata": {},
     "output_type": "execute_result"
    }
   ],
   "source": [
    "dept_sku = skuinfo.merge(deptinfo, on = \"DEPT\")\n",
    "dept_sku"
   ]
  },
  {
   "cell_type": "code",
   "execution_count": 8,
   "metadata": {},
   "outputs": [
    {
     "data": {
      "text/plain": [
       "(1556030, 11)"
      ]
     },
     "execution_count": 8,
     "metadata": {},
     "output_type": "execute_result"
    }
   ],
   "source": [
    "dept_sku.shape"
   ]
  },
  {
   "cell_type": "code",
   "execution_count": 9,
   "metadata": {},
   "outputs": [
    {
     "name": "stdout",
     "output_type": "stream",
     "text": [
      "<class 'pandas.core.frame.DataFrame'>\n",
      "Int64Index: 1556030 entries, 0 to 1556029\n",
      "Data columns (total 11 columns):\n",
      " #   Column    Non-Null Count    Dtype \n",
      "---  ------    --------------    ----- \n",
      " 0   SKU       1556030 non-null  int64 \n",
      " 1   DEPT      1556030 non-null  int64 \n",
      " 2   CLASSID   1556030 non-null  object\n",
      " 3   UPC       1556030 non-null  int64 \n",
      " 4   STYLE     1556030 non-null  object\n",
      " 5   COLOR     1556030 non-null  object\n",
      " 6   SIZE      1556030 non-null  object\n",
      " 7   PACKSIZE  1556030 non-null  object\n",
      " 8   VENDOR    1556030 non-null  object\n",
      " 9   BRAND     1556030 non-null  object\n",
      " 10  DEPTDESC  1556030 non-null  object\n",
      "dtypes: int64(3), object(8)\n",
      "memory usage: 142.5+ MB\n"
     ]
    }
   ],
   "source": [
    "dept_sku.info()"
   ]
  },
  {
   "cell_type": "code",
   "execution_count": 10,
   "metadata": {},
   "outputs": [
    {
     "data": {
      "text/plain": [
       "SKU         0\n",
       "DEPT        0\n",
       "CLASSID     0\n",
       "UPC         0\n",
       "STYLE       0\n",
       "COLOR       0\n",
       "SIZE        0\n",
       "PACKSIZE    0\n",
       "VENDOR      0\n",
       "BRAND       0\n",
       "dtype: int64"
      ]
     },
     "execution_count": 10,
     "metadata": {},
     "output_type": "execute_result"
    }
   ],
   "source": [
    "skuinfo.isnull().sum()"
   ]
  },
  {
   "cell_type": "markdown",
   "metadata": {},
   "source": [
    "### SKU"
   ]
  },
  {
   "cell_type": "code",
   "execution_count": 11,
   "metadata": {},
   "outputs": [
    {
     "data": {
      "text/plain": [
       "1556030"
      ]
     },
     "execution_count": 11,
     "metadata": {},
     "output_type": "execute_result"
    }
   ],
   "source": [
    "dept_sku[\"SKU\"].nunique()"
   ]
  },
  {
   "cell_type": "markdown",
   "metadata": {},
   "source": [
    "### DEPT"
   ]
  },
  {
   "cell_type": "code",
   "execution_count": 12,
   "metadata": {},
   "outputs": [
    {
     "data": {
      "text/plain": [
       "60"
      ]
     },
     "execution_count": 12,
     "metadata": {},
     "output_type": "execute_result"
    }
   ],
   "source": [
    "dept_sku[\"DEPT\"].nunique()"
   ]
  },
  {
   "cell_type": "code",
   "execution_count": 13,
   "metadata": {},
   "outputs": [
    {
     "data": {
      "text/plain": [
       "6006    150796\n",
       "4505    142108\n",
       "7106    131106\n",
       "8101     55957\n",
       "4303     53991\n",
       "3103     53094\n",
       "6404     52717\n",
       "4402     47222\n",
       "2301     47215\n",
       "7101     46578\n",
       "8305     39931\n",
       "9105     39479\n",
       "1301     38246\n",
       "5203     37678\n",
       "5301     35158\n",
       "4407     33985\n",
       "3105     32417\n",
       "2503     31262\n",
       "9801     29587\n",
       "3102     29004\n",
       "5404     28729\n",
       "3404     27608\n",
       "8306     26771\n",
       "6601     26526\n",
       "3701     24280\n",
       "7205     24188\n",
       "801      21620\n",
       "6505     21445\n",
       "7102     18647\n",
       "1202     17109\n",
       "5305     16861\n",
       "1905     16558\n",
       "5102     16233\n",
       "4801     16067\n",
       "2102     14873\n",
       "1704     14664\n",
       "7104     11543\n",
       "9306     10779\n",
       "2105     10070\n",
       "1107      9615\n",
       "4704      8975\n",
       "6402      8253\n",
       "7307      5532\n",
       "2107      5039\n",
       "8104      4825\n",
       "6107      3929\n",
       "2200      3731\n",
       "800       2145\n",
       "9000      2107\n",
       "3107      1786\n",
       "5207      1474\n",
       "5506      1451\n",
       "5100      1445\n",
       "1100      1121\n",
       "3100      1019\n",
       "7200       330\n",
       "8000       324\n",
       "6400       286\n",
       "8002       272\n",
       "4400       269\n",
       "Name: DEPT, dtype: int64"
      ]
     },
     "execution_count": 13,
     "metadata": {},
     "output_type": "execute_result"
    }
   ],
   "source": [
    "dept_sku[\"DEPT\"].value_counts()"
   ]
  },
  {
   "cell_type": "code",
   "execution_count": 14,
   "metadata": {},
   "outputs": [],
   "source": [
    "dept_count = dept_sku[\"DEPT\"].value_counts().reset_index()\n",
    "dept_count[\"index\"] = dept_count[\"index\"].astype(str)"
   ]
  },
  {
   "cell_type": "code",
   "execution_count": 15,
   "metadata": {},
   "outputs": [
    {
     "data": {
      "text/html": [
       "<div>\n",
       "<style scoped>\n",
       "    .dataframe tbody tr th:only-of-type {\n",
       "        vertical-align: middle;\n",
       "    }\n",
       "\n",
       "    .dataframe tbody tr th {\n",
       "        vertical-align: top;\n",
       "    }\n",
       "\n",
       "    .dataframe thead th {\n",
       "        text-align: right;\n",
       "    }\n",
       "</style>\n",
       "<table border=\"1\" class=\"dataframe\">\n",
       "  <thead>\n",
       "    <tr style=\"text-align: right;\">\n",
       "      <th></th>\n",
       "      <th>DEPT</th>\n",
       "    </tr>\n",
       "  </thead>\n",
       "  <tbody>\n",
       "    <tr>\n",
       "      <th>count</th>\n",
       "      <td>60.000000</td>\n",
       "    </tr>\n",
       "    <tr>\n",
       "      <th>mean</th>\n",
       "      <td>25933.833333</td>\n",
       "    </tr>\n",
       "    <tr>\n",
       "      <th>std</th>\n",
       "      <td>31408.143112</td>\n",
       "    </tr>\n",
       "    <tr>\n",
       "      <th>min</th>\n",
       "      <td>269.000000</td>\n",
       "    </tr>\n",
       "    <tr>\n",
       "      <th>25%</th>\n",
       "      <td>4601.000000</td>\n",
       "    </tr>\n",
       "    <tr>\n",
       "      <th>50%</th>\n",
       "      <td>16985.000000</td>\n",
       "    </tr>\n",
       "    <tr>\n",
       "      <th>75%</th>\n",
       "      <td>34278.250000</td>\n",
       "    </tr>\n",
       "    <tr>\n",
       "      <th>max</th>\n",
       "      <td>150796.000000</td>\n",
       "    </tr>\n",
       "  </tbody>\n",
       "</table>\n",
       "</div>"
      ],
      "text/plain": [
       "                DEPT\n",
       "count      60.000000\n",
       "mean    25933.833333\n",
       "std     31408.143112\n",
       "min       269.000000\n",
       "25%      4601.000000\n",
       "50%     16985.000000\n",
       "75%     34278.250000\n",
       "max    150796.000000"
      ]
     },
     "execution_count": 15,
     "metadata": {},
     "output_type": "execute_result"
    }
   ],
   "source": [
    "dept_count.describe()"
   ]
  },
  {
   "cell_type": "code",
   "execution_count": 16,
   "metadata": {},
   "outputs": [
    {
     "data": {
      "image/png": "[encoded data removed]",
      "text/plain": [
       "<Figure size 640x480 with 1 Axes>"
      ]
     },
     "metadata": {},
     "output_type": "display_data"
    }
   ],
   "source": [
    "bars = plt.bar(dept_count.head(10)[\"index\"], dept_count.head(10)[\"DEPT\"])\n",
    "for bar in bars:\n",
    "    height = bar.get_height()\n",
    "    plt.annotate(f'{int(height)}', xy=(bar.get_x() + bar.get_width() / 2, height),\n",
    "                 xytext=(0, 1), textcoords='offset points', ha='center', va='bottom')\n",
    "\n",
    "plt.xlabel(\"DEPT\")\n",
    "plt.ylabel(\"Number of SKU\")\n",
    "plt.show();"
   ]
  },
  {
   "cell_type": "markdown",
   "metadata": {},
   "source": [
    "### Style"
   ]
  },
  {
   "cell_type": "code",
   "execution_count": 17,
   "metadata": {},
   "outputs": [
    {
     "data": {
      "text/plain": [
       "315122"
      ]
     },
     "execution_count": 17,
     "metadata": {},
     "output_type": "execute_result"
    }
   ],
   "source": [
    "dept_sku[\"STYLE\"].nunique()"
   ]
  },
  {
   "cell_type": "code",
   "execution_count": 18,
   "metadata": {},
   "outputs": [
    {
     "data": {
      "text/plain": [
       "N     HARDWI    541\n",
       "      PHOEBE    460\n",
       "      NIKA      387\n",
       "70    S55KR9    340\n",
       "E     ROMAYN    333\n",
       "               ... \n",
       "2823  LP1038      1\n",
       "78    JLRU13      1\n",
       "68    JQRU26      1\n",
       "      23815       1\n",
       "      844171      1\n",
       "Name: STYLE, Length: 315122, dtype: int64"
      ]
     },
     "execution_count": 18,
     "metadata": {},
     "output_type": "execute_result"
    }
   ],
   "source": [
    "dept_sku[\"STYLE\"].value_counts()"
   ]
  },
  {
   "cell_type": "markdown",
   "metadata": {},
   "source": [
    "The format for STYLE is messy, with many spaces"
   ]
  },
  {
   "cell_type": "code",
   "execution_count": 19,
   "metadata": {},
   "outputs": [],
   "source": [
    "dept_sku[\"STYLE\"] = dept_sku[\"STYLE\"].str.strip()"
   ]
  },
  {
   "cell_type": "code",
   "execution_count": 20,
   "metadata": {},
   "outputs": [],
   "source": [
    "style_count = dept_sku[\"STYLE\"].value_counts().reset_index()"
   ]
  },
  {
   "cell_type": "code",
   "execution_count": 21,
   "metadata": {},
   "outputs": [
    {
     "data": {
      "text/plain": [
       "count    315122.000000\n",
       "mean          4.937865\n",
       "std           7.015116\n",
       "min           1.000000\n",
       "25%           1.000000\n",
       "50%           3.000000\n",
       "75%           6.000000\n",
       "max         541.000000\n",
       "Name: STYLE, dtype: float64"
      ]
     },
     "execution_count": 21,
     "metadata": {},
     "output_type": "execute_result"
    }
   ],
   "source": [
    "style_count[\"STYLE\"].describe()"
   ]
  },
  {
   "cell_type": "code",
   "execution_count": 22,
   "metadata": {},
   "outputs": [
    {
     "data": {
      "image/png": "[encoded data removed]",
      "text/plain": [
       "<Figure size 640x480 with 1 Axes>"
      ]
     },
     "metadata": {},
     "output_type": "display_data"
    }
   ],
   "source": [
    "bars = plt.bar(style_count.head(10)[\"index\"], style_count.head(10)[\"STYLE\"])\n",
    "for bar in bars:\n",
    "    height = bar.get_height()\n",
    "    plt.annotate(f'{int(height)}', xy=(bar.get_x() + bar.get_width() / 2, height),\n",
    "                 xytext=(0, 1), textcoords='offset points', ha='center', va='bottom')\n",
    "\n",
    "plt.xticks(rotation=90)\n",
    "plt.xlabel(\"STYLE\")\n",
    "plt.ylabel(\"Number of SKU\")\n",
    "plt.show();"
   ]
  },
  {
   "cell_type": "markdown",
   "metadata": {},
   "source": [
    "### Color"
   ]
  },
  {
   "cell_type": "code",
   "execution_count": 23,
   "metadata": {},
   "outputs": [
    {
     "data": {
      "text/plain": [
       "71323"
      ]
     },
     "execution_count": 23,
     "metadata": {},
     "output_type": "execute_result"
    }
   ],
   "source": [
    "dept_sku[\"COLOR\"].nunique()"
   ]
  },
  {
   "cell_type": "code",
   "execution_count": 24,
   "metadata": {},
   "outputs": [],
   "source": [
    "dept_sku[\"COLOR\"] = dept_sku[\"COLOR\"].str.strip()"
   ]
  },
  {
   "cell_type": "code",
   "execution_count": 25,
   "metadata": {},
   "outputs": [
    {
     "data": {
      "text/plain": [
       "BLACK          98933\n",
       "WHITE          42667\n",
       "NAVY           30521\n",
       "RED            22840\n",
       "MULTI          20538\n",
       "               ...  \n",
       "BLK/BL/WH/         1\n",
       "CLEAR/BLACK        1\n",
       "PENCIL             1\n",
       "RED BEAD           1\n",
       "JAN S04GWP         1\n",
       "Name: COLOR, Length: 71322, dtype: int64"
      ]
     },
     "execution_count": 25,
     "metadata": {},
     "output_type": "execute_result"
    }
   ],
   "source": [
    "dept_sku[\"COLOR\"].value_counts()"
   ]
  },
  {
   "cell_type": "code",
   "execution_count": 26,
   "metadata": {},
   "outputs": [],
   "source": [
    "replacement_dict = {\n",
    "    'black': ['black', 'blk', 'onyx', 'obsidian'],\n",
    "    'blue': ['blue', 'navy', 'indigo', 'denim', 'royal', 'nav', 'midnight', 'newport'], \n",
    "    'red': ['red', 'burgundy', 'cardinals', 'wine', 'maroon', 'cardinal', 'ruby'],\n",
    "    'white': ['white', 'cream', 'ivory', 'wht', 'wh', 'vanilla'],\n",
    "    'multi': ['multi', 'assorted', 'asst'],\n",
    "    'pink': ['pink', 'rose', 'fuchsia', 'fuschia', 'berry'],\n",
    "    'brown': ['brown', 'tan', 'khaki', 'chocolate', 'camel', 'beige', 'espresso', 'bronze'],\n",
    "    'grey': ['grey', 'silver', 'charcoal', 'taupe'],\n",
    "    'yellow': ['yellow', 'gold', 'champagne'],\n",
    "    'green': ['green', 'olive', 'lime', 'sage'],\n",
    "    'orange': ['orange', 'coral'],\n",
    "    'purple': ['purple', 'lilac', 'plum', 'lavender'],\n",
    "    'aqua': ['aqua', 'turquoise', 'turq', 'teal'],\n",
    "    'natural': [\"natural\", 'sand', 'stone']\n",
    "}"
   ]
  },
  {
   "cell_type": "code",
   "execution_count": 27,
   "metadata": {},
   "outputs": [],
   "source": [
    "def replace_words(text):\n",
    "    for group, lst in replacement_dict.items():\n",
    "        for word in lst:\n",
    "            if word in text.lower():\n",
    "                return group\n",
    "    return \"other\""
   ]
  },
  {
   "cell_type": "code",
   "execution_count": 28,
   "metadata": {},
   "outputs": [],
   "source": [
    "dept_sku[\"COLOR\"] = dept_sku[\"COLOR\"].apply(replace_words)"
   ]
  },
  {
   "cell_type": "code",
   "execution_count": 29,
   "metadata": {},
   "outputs": [
    {
     "data": {
      "text/html": [
       "<div>\n",
       "<style scoped>\n",
       "    .dataframe tbody tr th:only-of-type {\n",
       "        vertical-align: middle;\n",
       "    }\n",
       "\n",
       "    .dataframe tbody tr th {\n",
       "        vertical-align: top;\n",
       "    }\n",
       "\n",
       "    .dataframe thead th {\n",
       "        text-align: right;\n",
       "    }\n",
       "</style>\n",
       "<table border=\"1\" class=\"dataframe\">\n",
       "  <thead>\n",
       "    <tr style=\"text-align: right;\">\n",
       "      <th></th>\n",
       "      <th>index</th>\n",
       "      <th>COLOR</th>\n",
       "    </tr>\n",
       "  </thead>\n",
       "  <tbody>\n",
       "    <tr>\n",
       "      <th>0</th>\n",
       "      <td>other</td>\n",
       "      <td>558126</td>\n",
       "    </tr>\n",
       "    <tr>\n",
       "      <th>1</th>\n",
       "      <td>black</td>\n",
       "      <td>266407</td>\n",
       "    </tr>\n",
       "    <tr>\n",
       "      <th>2</th>\n",
       "      <td>blue</td>\n",
       "      <td>163156</td>\n",
       "    </tr>\n",
       "    <tr>\n",
       "      <th>3</th>\n",
       "      <td>white</td>\n",
       "      <td>134820</td>\n",
       "    </tr>\n",
       "    <tr>\n",
       "      <th>4</th>\n",
       "      <td>brown</td>\n",
       "      <td>77797</td>\n",
       "    </tr>\n",
       "    <tr>\n",
       "      <th>5</th>\n",
       "      <td>red</td>\n",
       "      <td>68578</td>\n",
       "    </tr>\n",
       "    <tr>\n",
       "      <th>6</th>\n",
       "      <td>pink</td>\n",
       "      <td>55052</td>\n",
       "    </tr>\n",
       "    <tr>\n",
       "      <th>7</th>\n",
       "      <td>grey</td>\n",
       "      <td>49509</td>\n",
       "    </tr>\n",
       "    <tr>\n",
       "      <th>8</th>\n",
       "      <td>multi</td>\n",
       "      <td>38324</td>\n",
       "    </tr>\n",
       "    <tr>\n",
       "      <th>9</th>\n",
       "      <td>green</td>\n",
       "      <td>36696</td>\n",
       "    </tr>\n",
       "    <tr>\n",
       "      <th>10</th>\n",
       "      <td>natural</td>\n",
       "      <td>27128</td>\n",
       "    </tr>\n",
       "    <tr>\n",
       "      <th>11</th>\n",
       "      <td>yellow</td>\n",
       "      <td>23753</td>\n",
       "    </tr>\n",
       "    <tr>\n",
       "      <th>12</th>\n",
       "      <td>aqua</td>\n",
       "      <td>22479</td>\n",
       "    </tr>\n",
       "    <tr>\n",
       "      <th>13</th>\n",
       "      <td>purple</td>\n",
       "      <td>18689</td>\n",
       "    </tr>\n",
       "    <tr>\n",
       "      <th>14</th>\n",
       "      <td>orange</td>\n",
       "      <td>15516</td>\n",
       "    </tr>\n",
       "  </tbody>\n",
       "</table>\n",
       "</div>"
      ],
      "text/plain": [
       "      index   COLOR\n",
       "0     other  558126\n",
       "1     black  266407\n",
       "2      blue  163156\n",
       "3     white  134820\n",
       "4     brown   77797\n",
       "5       red   68578\n",
       "6      pink   55052\n",
       "7      grey   49509\n",
       "8     multi   38324\n",
       "9     green   36696\n",
       "10  natural   27128\n",
       "11   yellow   23753\n",
       "12     aqua   22479\n",
       "13   purple   18689\n",
       "14   orange   15516"
      ]
     },
     "execution_count": 29,
     "metadata": {},
     "output_type": "execute_result"
    }
   ],
   "source": [
    "color_count = dept_sku[\"COLOR\"].value_counts().reset_index()\n",
    "color_count"
   ]
  },
  {
   "cell_type": "code",
   "execution_count": 30,
   "metadata": {},
   "outputs": [
    {
     "data": {
      "text/plain": [
       "count        15.000000\n",
       "mean     103735.333333\n",
       "std      143254.596490\n",
       "min       15516.000000\n",
       "25%       25440.500000\n",
       "50%       49509.000000\n",
       "75%      106308.500000\n",
       "max      558126.000000\n",
       "Name: COLOR, dtype: float64"
      ]
     },
     "execution_count": 30,
     "metadata": {},
     "output_type": "execute_result"
    }
   ],
   "source": [
    "color_count[\"COLOR\"].describe()"
   ]
  },
  {
   "cell_type": "code",
   "execution_count": 31,
   "metadata": {},
   "outputs": [
    {
     "data": {
      "image/png": "[encoded data removed]",
      "text/plain": [
       "<Figure size 640x480 with 1 Axes>"
      ]
     },
     "metadata": {},
     "output_type": "display_data"
    }
   ],
   "source": [
    "bars = plt.bar(color_count.head(10)[\"index\"], color_count.head(10)[\"COLOR\"])\n",
    "for bar in bars:\n",
    "    height = bar.get_height()\n",
    "    plt.annotate(f'{int(height)}', xy=(bar.get_x() + bar.get_width() / 2, height),\n",
    "                 xytext=(0, 1), textcoords='offset points', ha='center', va='bottom')\n",
    "\n",
    "plt.xticks(rotation=90)\n",
    "plt.xlabel(\"COLOR\")\n",
    "plt.ylabel(\"Number of SKU\")\n",
    "plt.show();"
   ]
  },
  {
   "cell_type": "markdown",
   "metadata": {},
   "source": [
    "### Size"
   ]
  },
  {
   "cell_type": "code",
   "execution_count": 32,
   "metadata": {},
   "outputs": [],
   "source": [
    "dept_sku[\"SIZE\"] = dept_sku[\"SIZE\"].str.strip()"
   ]
  },
  {
   "cell_type": "code",
   "execution_count": 33,
   "metadata": {},
   "outputs": [
    {
     "data": {
      "text/plain": [
       "L             124554\n",
       "M             124347\n",
       "S             107074\n",
       "ALL           102739\n",
       "XL             89543\n",
       "               ...  \n",
       "30 PULLMAN         1\n",
       "BRIEFCASE          1\n",
       "27 PULLMAN         1\n",
       "11.5X16X5.         1\n",
       "CURVE              1\n",
       "Name: SIZE, Length: 9784, dtype: int64"
      ]
     },
     "execution_count": 33,
     "metadata": {},
     "output_type": "execute_result"
    }
   ],
   "source": [
    "dept_sku[\"SIZE\"].value_counts()"
   ]
  },
  {
   "cell_type": "code",
   "execution_count": 34,
   "metadata": {},
   "outputs": [
    {
     "data": {
      "text/html": [
       "<div>\n",
       "<style scoped>\n",
       "    .dataframe tbody tr th:only-of-type {\n",
       "        vertical-align: middle;\n",
       "    }\n",
       "\n",
       "    .dataframe tbody tr th {\n",
       "        vertical-align: top;\n",
       "    }\n",
       "\n",
       "    .dataframe thead th {\n",
       "        text-align: right;\n",
       "    }\n",
       "</style>\n",
       "<table border=\"1\" class=\"dataframe\">\n",
       "  <thead>\n",
       "    <tr style=\"text-align: right;\">\n",
       "      <th></th>\n",
       "      <th>index</th>\n",
       "      <th>SIZE</th>\n",
       "    </tr>\n",
       "  </thead>\n",
       "  <tbody>\n",
       "    <tr>\n",
       "      <th>0</th>\n",
       "      <td>L</td>\n",
       "      <td>124554</td>\n",
       "    </tr>\n",
       "    <tr>\n",
       "      <th>1</th>\n",
       "      <td>M</td>\n",
       "      <td>124347</td>\n",
       "    </tr>\n",
       "    <tr>\n",
       "      <th>2</th>\n",
       "      <td>S</td>\n",
       "      <td>107074</td>\n",
       "    </tr>\n",
       "    <tr>\n",
       "      <th>3</th>\n",
       "      <td>ALL</td>\n",
       "      <td>102739</td>\n",
       "    </tr>\n",
       "    <tr>\n",
       "      <th>4</th>\n",
       "      <td>XL</td>\n",
       "      <td>89543</td>\n",
       "    </tr>\n",
       "    <tr>\n",
       "      <th>...</th>\n",
       "      <td>...</td>\n",
       "      <td>...</td>\n",
       "    </tr>\n",
       "    <tr>\n",
       "      <th>9779</th>\n",
       "      <td>30 PULLMAN</td>\n",
       "      <td>1</td>\n",
       "    </tr>\n",
       "    <tr>\n",
       "      <th>9780</th>\n",
       "      <td>BRIEFCASE</td>\n",
       "      <td>1</td>\n",
       "    </tr>\n",
       "    <tr>\n",
       "      <th>9781</th>\n",
       "      <td>27 PULLMAN</td>\n",
       "      <td>1</td>\n",
       "    </tr>\n",
       "    <tr>\n",
       "      <th>9782</th>\n",
       "      <td>11.5X16X5.</td>\n",
       "      <td>1</td>\n",
       "    </tr>\n",
       "    <tr>\n",
       "      <th>9783</th>\n",
       "      <td>CURVE</td>\n",
       "      <td>1</td>\n",
       "    </tr>\n",
       "  </tbody>\n",
       "</table>\n",
       "<p>9784 rows × 2 columns</p>\n",
       "</div>"
      ],
      "text/plain": [
       "           index    SIZE\n",
       "0              L  124554\n",
       "1              M  124347\n",
       "2              S  107074\n",
       "3            ALL  102739\n",
       "4             XL   89543\n",
       "...          ...     ...\n",
       "9779  30 PULLMAN       1\n",
       "9780   BRIEFCASE       1\n",
       "9781  27 PULLMAN       1\n",
       "9782  11.5X16X5.       1\n",
       "9783       CURVE       1\n",
       "\n",
       "[9784 rows x 2 columns]"
      ]
     },
     "execution_count": 34,
     "metadata": {},
     "output_type": "execute_result"
    }
   ],
   "source": [
    "size_count = dept_sku[\"SIZE\"].value_counts().reset_index()\n",
    "size_count"
   ]
  },
  {
   "cell_type": "code",
   "execution_count": 35,
   "metadata": {},
   "outputs": [
    {
     "data": {
      "text/plain": [
       "count      9784.000000\n",
       "mean        159.038226\n",
       "std        2704.240172\n",
       "min           1.000000\n",
       "25%           1.000000\n",
       "50%           1.000000\n",
       "75%           6.000000\n",
       "max      124554.000000\n",
       "Name: SIZE, dtype: float64"
      ]
     },
     "execution_count": 35,
     "metadata": {},
     "output_type": "execute_result"
    }
   ],
   "source": [
    "size_count[\"SIZE\"].describe()"
   ]
  },
  {
   "cell_type": "code",
   "execution_count": 36,
   "metadata": {},
   "outputs": [
    {
     "data": {
      "image/png": "[encoded data removed]",
      "text/plain": [
       "<Figure size 640x480 with 1 Axes>"
      ]
     },
     "metadata": {},
     "output_type": "display_data"
    }
   ],
   "source": [
    "bars = plt.bar(size_count.head(10)[\"index\"], size_count.head(10)[\"SIZE\"])\n",
    "for bar in bars:\n",
    "    height = bar.get_height()\n",
    "    plt.annotate(f'{int(height)}', xy=(bar.get_x() + bar.get_width() / 2, height),\n",
    "                 xytext=(0, 1), textcoords='offset points', ha='center', va='bottom')\n",
    "\n",
    "plt.xticks(rotation=90)\n",
    "plt.xlabel(\"SIZE\")\n",
    "plt.ylabel(\"Number of SKU\")\n",
    "plt.show();"
   ]
  },
  {
   "cell_type": "markdown",
   "metadata": {},
   "source": [
    "### Packsize"
   ]
  },
  {
   "cell_type": "code",
   "execution_count": 37,
   "metadata": {},
   "outputs": [],
   "source": [
    "dept_sku[\"PACKSIZE\"] = dept_sku[\"PACKSIZE\"].astype(int)"
   ]
  },
  {
   "cell_type": "code",
   "execution_count": 38,
   "metadata": {},
   "outputs": [
    {
     "data": {
      "text/plain": [
       "48"
      ]
     },
     "execution_count": 38,
     "metadata": {},
     "output_type": "execute_result"
    }
   ],
   "source": [
    "dept_sku[\"PACKSIZE\"].nunique()"
   ]
  },
  {
   "cell_type": "code",
   "execution_count": 39,
   "metadata": {},
   "outputs": [
    {
     "data": {
      "text/plain": [
       "1      1525437\n",
       "3        13987\n",
       "6         7252\n",
       "2         4152\n",
       "4         2925\n",
       "12         602\n",
       "403        300\n",
       "10         230\n",
       "501        150\n",
       "8          139\n",
       "36         104\n",
       "201         97\n",
       "50          79\n",
       "101         79\n",
       "24          72\n",
       "100         46\n",
       "25          44\n",
       "48          40\n",
       "7           40\n",
       "601         36\n",
       "0           34\n",
       "5           32\n",
       "20          19\n",
       "500         18\n",
       "301         14\n",
       "401         10\n",
       "120          9\n",
       "40           8\n",
       "18           8\n",
       "600          7\n",
       "58           6\n",
       "75           6\n",
       "801          6\n",
       "300          5\n",
       "508          5\n",
       "11           5\n",
       "720          4\n",
       "16           4\n",
       "29           4\n",
       "23           4\n",
       "9            3\n",
       "200          2\n",
       "80           1\n",
       "70           1\n",
       "190          1\n",
       "999          1\n",
       "250          1\n",
       "96           1\n",
       "Name: PACKSIZE, dtype: int64"
      ]
     },
     "execution_count": 39,
     "metadata": {},
     "output_type": "execute_result"
    }
   ],
   "source": [
    "dept_sku[\"PACKSIZE\"].value_counts()"
   ]
  },
  {
   "cell_type": "code",
   "execution_count": 40,
   "metadata": {},
   "outputs": [
    {
     "data": {
      "image/png": "[encoded data removed]",
      "text/plain": [
       "<Figure size 640x480 with 1 Axes>"
      ]
     },
     "metadata": {},
     "output_type": "display_data"
    }
   ],
   "source": [
    "plt.hist(dept_sku[\"PACKSIZE\"], log=True)\n",
    "plt.xlabel(\"PACKSIZE\");"
   ]
  },
  {
   "cell_type": "markdown",
   "metadata": {},
   "source": [
    "### Vendor"
   ]
  },
  {
   "cell_type": "code",
   "execution_count": 41,
   "metadata": {},
   "outputs": [],
   "source": [
    "dept_sku[\"VENDOR\"] = dept_sku[\"VENDOR\"].astype(str)"
   ]
  },
  {
   "cell_type": "code",
   "execution_count": 42,
   "metadata": {},
   "outputs": [
    {
     "data": {
      "text/plain": [
       "5715232    147944\n",
       "5010255     49621\n",
       "614761      30722\n",
       "3313116     29566\n",
       "60904       21835\n",
       "            ...  \n",
       "4215191         1\n",
       "0113327         1\n",
       "1010078         1\n",
       "14122           1\n",
       "3413313         1\n",
       "Name: VENDOR, Length: 2597, dtype: int64"
      ]
     },
     "execution_count": 42,
     "metadata": {},
     "output_type": "execute_result"
    }
   ],
   "source": [
    "dept_sku[\"VENDOR\"].value_counts()"
   ]
  },
  {
   "cell_type": "code",
   "execution_count": 43,
   "metadata": {},
   "outputs": [
    {
     "data": {
      "text/html": [
       "<div>\n",
       "<style scoped>\n",
       "    .dataframe tbody tr th:only-of-type {\n",
       "        vertical-align: middle;\n",
       "    }\n",
       "\n",
       "    .dataframe tbody tr th {\n",
       "        vertical-align: top;\n",
       "    }\n",
       "\n",
       "    .dataframe thead th {\n",
       "        text-align: right;\n",
       "    }\n",
       "</style>\n",
       "<table border=\"1\" class=\"dataframe\">\n",
       "  <thead>\n",
       "    <tr style=\"text-align: right;\">\n",
       "      <th></th>\n",
       "      <th>index</th>\n",
       "      <th>VENDOR</th>\n",
       "    </tr>\n",
       "  </thead>\n",
       "  <tbody>\n",
       "    <tr>\n",
       "      <th>0</th>\n",
       "      <td>5715232</td>\n",
       "      <td>147944</td>\n",
       "    </tr>\n",
       "    <tr>\n",
       "      <th>1</th>\n",
       "      <td>5010255</td>\n",
       "      <td>49621</td>\n",
       "    </tr>\n",
       "    <tr>\n",
       "      <th>2</th>\n",
       "      <td>614761</td>\n",
       "      <td>30722</td>\n",
       "    </tr>\n",
       "    <tr>\n",
       "      <th>3</th>\n",
       "      <td>3313116</td>\n",
       "      <td>29566</td>\n",
       "    </tr>\n",
       "    <tr>\n",
       "      <th>4</th>\n",
       "      <td>60904</td>\n",
       "      <td>21835</td>\n",
       "    </tr>\n",
       "    <tr>\n",
       "      <th>...</th>\n",
       "      <td>...</td>\n",
       "      <td>...</td>\n",
       "    </tr>\n",
       "    <tr>\n",
       "      <th>2592</th>\n",
       "      <td>4215191</td>\n",
       "      <td>1</td>\n",
       "    </tr>\n",
       "    <tr>\n",
       "      <th>2593</th>\n",
       "      <td>0113327</td>\n",
       "      <td>1</td>\n",
       "    </tr>\n",
       "    <tr>\n",
       "      <th>2594</th>\n",
       "      <td>1010078</td>\n",
       "      <td>1</td>\n",
       "    </tr>\n",
       "    <tr>\n",
       "      <th>2595</th>\n",
       "      <td>14122</td>\n",
       "      <td>1</td>\n",
       "    </tr>\n",
       "    <tr>\n",
       "      <th>2596</th>\n",
       "      <td>3413313</td>\n",
       "      <td>1</td>\n",
       "    </tr>\n",
       "  </tbody>\n",
       "</table>\n",
       "<p>2597 rows × 2 columns</p>\n",
       "</div>"
      ],
      "text/plain": [
       "        index  VENDOR\n",
       "0     5715232  147944\n",
       "1     5010255   49621\n",
       "2      614761   30722\n",
       "3     3313116   29566\n",
       "4       60904   21835\n",
       "...       ...     ...\n",
       "2592  4215191       1\n",
       "2593  0113327       1\n",
       "2594  1010078       1\n",
       "2595    14122       1\n",
       "2596  3413313       1\n",
       "\n",
       "[2597 rows x 2 columns]"
      ]
     },
     "execution_count": 43,
     "metadata": {},
     "output_type": "execute_result"
    }
   ],
   "source": [
    "vendor_count = dept_sku[\"VENDOR\"].value_counts().reset_index()\n",
    "vendor_count"
   ]
  },
  {
   "cell_type": "code",
   "execution_count": 44,
   "metadata": {},
   "outputs": [
    {
     "data": {
      "text/plain": [
       "count      2597.000000\n",
       "mean        599.164420\n",
       "std        3504.753589\n",
       "min           1.000000\n",
       "25%           8.000000\n",
       "50%          43.000000\n",
       "75%         280.000000\n",
       "max      147944.000000\n",
       "Name: VENDOR, dtype: float64"
      ]
     },
     "execution_count": 44,
     "metadata": {},
     "output_type": "execute_result"
    }
   ],
   "source": [
    "vendor_count[\"VENDOR\"].describe()"
   ]
  },
  {
   "cell_type": "code",
   "execution_count": 45,
   "metadata": {},
   "outputs": [
    {
     "data": {
      "image/png": "[encoded data removed]",
      "text/plain": [
       "<Figure size 640x480 with 1 Axes>"
      ]
     },
     "metadata": {},
     "output_type": "display_data"
    }
   ],
   "source": [
    "bars = plt.bar(vendor_count.head(10)[\"index\"], vendor_count.head(10)[\"VENDOR\"])\n",
    "for bar in bars:\n",
    "    height = bar.get_height()\n",
    "    plt.annotate(f'{int(height)}', xy=(bar.get_x() + bar.get_width() / 2, height),\n",
    "                 xytext=(0, 1), textcoords='offset points', ha='center', va='bottom')\n",
    "\n",
    "plt.xticks(rotation=90)\n",
    "plt.xlabel(\"VENDOR\")\n",
    "plt.ylabel(\"Number of SKU\")\n",
    "plt.show();"
   ]
  },
  {
   "cell_type": "markdown",
   "metadata": {},
   "source": [
    "### Brand"
   ]
  },
  {
   "cell_type": "code",
   "execution_count": 46,
   "metadata": {},
   "outputs": [
    {
     "data": {
      "text/plain": [
       "1925"
      ]
     },
     "execution_count": 46,
     "metadata": {},
     "output_type": "execute_result"
    }
   ],
   "source": [
    "dept_sku[\"BRAND\"].nunique()"
   ]
  },
  {
   "cell_type": "code",
   "execution_count": 47,
   "metadata": {},
   "outputs": [
    {
     "data": {
      "text/plain": [
       "POLO FAS     130994\n",
       "BROWN SH      52160\n",
       "ENZO ANG      49121\n",
       "LIZ CLAI      43723\n",
       "ROUNDTRE      39466\n",
       "              ...  \n",
       "BORDERLA          1\n",
       "MARIAN &          1\n",
       "WIN-SIR           1\n",
       "OAK SHOP          1\n",
       "CRUSH             1\n",
       "Name: BRAND, Length: 1925, dtype: int64"
      ]
     },
     "execution_count": 47,
     "metadata": {},
     "output_type": "execute_result"
    }
   ],
   "source": [
    "dept_sku[\"BRAND\"].value_counts()"
   ]
  },
  {
   "cell_type": "code",
   "execution_count": 48,
   "metadata": {},
   "outputs": [
    {
     "data": {
      "text/html": [
       "<div>\n",
       "<style scoped>\n",
       "    .dataframe tbody tr th:only-of-type {\n",
       "        vertical-align: middle;\n",
       "    }\n",
       "\n",
       "    .dataframe tbody tr th {\n",
       "        vertical-align: top;\n",
       "    }\n",
       "\n",
       "    .dataframe thead th {\n",
       "        text-align: right;\n",
       "    }\n",
       "</style>\n",
       "<table border=\"1\" class=\"dataframe\">\n",
       "  <thead>\n",
       "    <tr style=\"text-align: right;\">\n",
       "      <th></th>\n",
       "      <th>index</th>\n",
       "      <th>BRAND</th>\n",
       "    </tr>\n",
       "  </thead>\n",
       "  <tbody>\n",
       "    <tr>\n",
       "      <th>0</th>\n",
       "      <td>POLO FAS</td>\n",
       "      <td>130994</td>\n",
       "    </tr>\n",
       "    <tr>\n",
       "      <th>1</th>\n",
       "      <td>BROWN SH</td>\n",
       "      <td>52160</td>\n",
       "    </tr>\n",
       "    <tr>\n",
       "      <th>2</th>\n",
       "      <td>ENZO ANG</td>\n",
       "      <td>49121</td>\n",
       "    </tr>\n",
       "    <tr>\n",
       "      <th>3</th>\n",
       "      <td>LIZ CLAI</td>\n",
       "      <td>43723</td>\n",
       "    </tr>\n",
       "    <tr>\n",
       "      <th>4</th>\n",
       "      <td>ROUNDTRE</td>\n",
       "      <td>39466</td>\n",
       "    </tr>\n",
       "    <tr>\n",
       "      <th>...</th>\n",
       "      <td>...</td>\n",
       "      <td>...</td>\n",
       "    </tr>\n",
       "    <tr>\n",
       "      <th>1920</th>\n",
       "      <td>BORDERLA</td>\n",
       "      <td>1</td>\n",
       "    </tr>\n",
       "    <tr>\n",
       "      <th>1921</th>\n",
       "      <td>MARIAN &amp;</td>\n",
       "      <td>1</td>\n",
       "    </tr>\n",
       "    <tr>\n",
       "      <th>1922</th>\n",
       "      <td>WIN-SIR</td>\n",
       "      <td>1</td>\n",
       "    </tr>\n",
       "    <tr>\n",
       "      <th>1923</th>\n",
       "      <td>OAK SHOP</td>\n",
       "      <td>1</td>\n",
       "    </tr>\n",
       "    <tr>\n",
       "      <th>1924</th>\n",
       "      <td>CRUSH</td>\n",
       "      <td>1</td>\n",
       "    </tr>\n",
       "  </tbody>\n",
       "</table>\n",
       "<p>1925 rows × 2 columns</p>\n",
       "</div>"
      ],
      "text/plain": [
       "          index   BRAND\n",
       "0     POLO FAS   130994\n",
       "1     BROWN SH    52160\n",
       "2     ENZO ANG    49121\n",
       "3     LIZ CLAI    43723\n",
       "4     ROUNDTRE    39466\n",
       "...         ...     ...\n",
       "1920  BORDERLA        1\n",
       "1921  MARIAN &        1\n",
       "1922  WIN-SIR         1\n",
       "1923  OAK SHOP        1\n",
       "1924  CRUSH           1\n",
       "\n",
       "[1925 rows x 2 columns]"
      ]
     },
     "execution_count": 48,
     "metadata": {},
     "output_type": "execute_result"
    }
   ],
   "source": [
    "brand_count = dept_sku[\"BRAND\"].value_counts().reset_index()\n",
    "brand_count"
   ]
  },
  {
   "cell_type": "code",
   "execution_count": 49,
   "metadata": {},
   "outputs": [
    {
     "data": {
      "text/plain": [
       "count      1925.000000\n",
       "mean        808.327273\n",
       "std        4267.983010\n",
       "min           1.000000\n",
       "25%           8.000000\n",
       "50%          49.000000\n",
       "75%         300.000000\n",
       "max      130994.000000\n",
       "Name: BRAND, dtype: float64"
      ]
     },
     "execution_count": 49,
     "metadata": {},
     "output_type": "execute_result"
    }
   ],
   "source": [
    "brand_count[\"BRAND\"].describe()"
   ]
  },
  {
   "cell_type": "markdown",
   "metadata": {},
   "source": [
    "There exist empty brand name"
   ]
  },
  {
   "cell_type": "code",
   "execution_count": 50,
   "metadata": {},
   "outputs": [
    {
     "data": {
      "image/png": "[encoded data removed]",
      "text/plain": [
       "<Figure size 640x480 with 1 Axes>"
      ]
     },
     "metadata": {},
     "output_type": "display_data"
    }
   ],
   "source": [
    "bars = plt.bar(brand_count.head(10)[\"index\"], brand_count.head(10)[\"BRAND\"])\n",
    "for bar in bars:\n",
    "    height = bar.get_height()\n",
    "    plt.annotate(f'{int(height)}', xy=(bar.get_x() + bar.get_width() / 2, height),\n",
    "                 xytext=(0, 1), textcoords='offset points', ha='center', va='bottom')\n",
    "\n",
    "plt.xticks(rotation=90)\n",
    "plt.xlabel(\"BRAND\")\n",
    "plt.ylabel(\"Number of SKU\")\n",
    "plt.show();"
   ]
  },
  {
   "cell_type": "code",
   "execution_count": 51,
   "metadata": {},
   "outputs": [
    {
     "data": {
      "text/plain": [
       "DEPT\n",
       "800       2145\n",
       "801      21620\n",
       "1100      1121\n",
       "1107      9615\n",
       "1202     17109\n",
       "1301     38246\n",
       "1704     14664\n",
       "1905     16558\n",
       "2102     14873\n",
       "2105     10070\n",
       "2107      5039\n",
       "2200      3731\n",
       "2301     47215\n",
       "2503     31262\n",
       "3100      1019\n",
       "3102     29004\n",
       "3103     53094\n",
       "3105     32417\n",
       "3107      1786\n",
       "3404     27608\n",
       "3701     24280\n",
       "4303     53991\n",
       "4400       269\n",
       "4402     47222\n",
       "4407     33985\n",
       "4505    142108\n",
       "4704      8975\n",
       "4801     16067\n",
       "5100      1445\n",
       "5102     16233\n",
       "5203     37678\n",
       "5207      1474\n",
       "5301     35158\n",
       "5305     16861\n",
       "5404     28729\n",
       "5506      1451\n",
       "6006    150796\n",
       "6107      3929\n",
       "6400       286\n",
       "6402      8253\n",
       "6404     52717\n",
       "6505     21445\n",
       "6601     26526\n",
       "7101     46578\n",
       "7102     18647\n",
       "7104     11543\n",
       "7106    131106\n",
       "7200       330\n",
       "7205     24188\n",
       "7307      5532\n",
       "8000       324\n",
       "8002       272\n",
       "8101     55957\n",
       "8104      4825\n",
       "8305     39931\n",
       "8306     26771\n",
       "9000      2107\n",
       "9105     39479\n",
       "9306     10779\n",
       "9801     29587\n",
       "Name: BRAND, dtype: int64"
      ]
     },
     "execution_count": 51,
     "metadata": {},
     "output_type": "execute_result"
    }
   ],
   "source": [
    "dept_sku.groupby([\"DEPT\"])[\"BRAND\"].count()"
   ]
  }
 ],
 "metadata": {
  "kernelspec": {
   "display_name": "Python 3 (ipykernel)",
   "language": "python",
   "name": "python3"
  },
  "language_info": {
   "codemirror_mode": {
    "name": "ipython",
    "version": 3
   },
   "file_extension": ".py",
   "mimetype": "text/x-python",
   "name": "python",
   "nbconvert_exporter": "python",
   "pygments_lexer": "ipython3",
   "version": "3.11.6"
  }
 },
 "nbformat": 4,
 "nbformat_minor": 2
}
